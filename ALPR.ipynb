{
  "nbformat": 4,
  "nbformat_minor": 0,
  "metadata": {
    "colab": {
      "name": "ALPR.ipynb",
      "provenance": [],
      "collapsed_sections": [],
      "toc_visible": true
    },
    "kernelspec": {
      "name": "python3",
      "display_name": "Python 3"
    },
    "accelerator": "GPU",
    "widgets": {
      "application/vnd.jupyter.widget-state+json": {
        "b8644334f6384d0c987b549a2f0865ff": {
          "model_module": "@jupyter-widgets/controls",
          "model_name": "HBoxModel",
          "state": {
            "_view_name": "HBoxView",
            "_dom_classes": [],
            "_model_name": "HBoxModel",
            "_view_module": "@jupyter-widgets/controls",
            "_model_module_version": "1.5.0",
            "_view_count": null,
            "_view_module_version": "1.5.0",
            "box_style": "",
            "layout": "IPY_MODEL_53b90ba40caa45df969f22338f2932b9",
            "_model_module": "@jupyter-widgets/controls",
            "children": [
              "IPY_MODEL_cf2e7e22a6f04589b009f14bfcfae4cf",
              "IPY_MODEL_812123ebae5c4d07b118018c49011b36"
            ]
          }
        },
        "53b90ba40caa45df969f22338f2932b9": {
          "model_module": "@jupyter-widgets/base",
          "model_name": "LayoutModel",
          "state": {
            "_view_name": "LayoutView",
            "grid_template_rows": null,
            "right": null,
            "justify_content": null,
            "_view_module": "@jupyter-widgets/base",
            "overflow": null,
            "_model_module_version": "1.2.0",
            "_view_count": null,
            "flex_flow": null,
            "width": null,
            "min_width": null,
            "border": null,
            "align_items": null,
            "bottom": null,
            "_model_module": "@jupyter-widgets/base",
            "top": null,
            "grid_column": null,
            "overflow_y": null,
            "overflow_x": null,
            "grid_auto_flow": null,
            "grid_area": null,
            "grid_template_columns": null,
            "flex": null,
            "_model_name": "LayoutModel",
            "justify_items": null,
            "grid_row": null,
            "max_height": null,
            "align_content": null,
            "visibility": null,
            "align_self": null,
            "height": null,
            "min_height": null,
            "padding": null,
            "grid_auto_rows": null,
            "grid_gap": null,
            "max_width": null,
            "order": null,
            "_view_module_version": "1.2.0",
            "grid_template_areas": null,
            "object_position": null,
            "object_fit": null,
            "grid_auto_columns": null,
            "margin": null,
            "display": null,
            "left": null
          }
        },
        "cf2e7e22a6f04589b009f14bfcfae4cf": {
          "model_module": "@jupyter-widgets/controls",
          "model_name": "FloatProgressModel",
          "state": {
            "_view_name": "ProgressView",
            "style": "IPY_MODEL_9019ac6e53d04566ad1a2da3b56db6be",
            "_dom_classes": [],
            "description": "100%",
            "_model_name": "FloatProgressModel",
            "bar_style": "success",
            "max": 178728960,
            "_view_module": "@jupyter-widgets/controls",
            "_model_module_version": "1.5.0",
            "value": 178728960,
            "_view_count": null,
            "_view_module_version": "1.5.0",
            "orientation": "horizontal",
            "min": 0,
            "description_tooltip": null,
            "_model_module": "@jupyter-widgets/controls",
            "layout": "IPY_MODEL_3d8cf1d227e44cf9ad1d9fd49b6b0204"
          }
        },
        "812123ebae5c4d07b118018c49011b36": {
          "model_module": "@jupyter-widgets/controls",
          "model_name": "HTMLModel",
          "state": {
            "_view_name": "HTMLView",
            "style": "IPY_MODEL_8c24f7561b4d4a64a42701233d0ac230",
            "_dom_classes": [],
            "description": "",
            "_model_name": "HTMLModel",
            "placeholder": "​",
            "_view_module": "@jupyter-widgets/controls",
            "_model_module_version": "1.5.0",
            "value": " 170M/170M [01:01&lt;00:00, 2.93MB/s]",
            "_view_count": null,
            "_view_module_version": "1.5.0",
            "description_tooltip": null,
            "_model_module": "@jupyter-widgets/controls",
            "layout": "IPY_MODEL_9183864bd5454ef68c3936b539e054ee"
          }
        },
        "9019ac6e53d04566ad1a2da3b56db6be": {
          "model_module": "@jupyter-widgets/controls",
          "model_name": "ProgressStyleModel",
          "state": {
            "_view_name": "StyleView",
            "_model_name": "ProgressStyleModel",
            "description_width": "initial",
            "_view_module": "@jupyter-widgets/base",
            "_model_module_version": "1.5.0",
            "_view_count": null,
            "_view_module_version": "1.2.0",
            "bar_color": null,
            "_model_module": "@jupyter-widgets/controls"
          }
        },
        "3d8cf1d227e44cf9ad1d9fd49b6b0204": {
          "model_module": "@jupyter-widgets/base",
          "model_name": "LayoutModel",
          "state": {
            "_view_name": "LayoutView",
            "grid_template_rows": null,
            "right": null,
            "justify_content": null,
            "_view_module": "@jupyter-widgets/base",
            "overflow": null,
            "_model_module_version": "1.2.0",
            "_view_count": null,
            "flex_flow": null,
            "width": null,
            "min_width": null,
            "border": null,
            "align_items": null,
            "bottom": null,
            "_model_module": "@jupyter-widgets/base",
            "top": null,
            "grid_column": null,
            "overflow_y": null,
            "overflow_x": null,
            "grid_auto_flow": null,
            "grid_area": null,
            "grid_template_columns": null,
            "flex": null,
            "_model_name": "LayoutModel",
            "justify_items": null,
            "grid_row": null,
            "max_height": null,
            "align_content": null,
            "visibility": null,
            "align_self": null,
            "height": null,
            "min_height": null,
            "padding": null,
            "grid_auto_rows": null,
            "grid_gap": null,
            "max_width": null,
            "order": null,
            "_view_module_version": "1.2.0",
            "grid_template_areas": null,
            "object_position": null,
            "object_fit": null,
            "grid_auto_columns": null,
            "margin": null,
            "display": null,
            "left": null
          }
        },
        "8c24f7561b4d4a64a42701233d0ac230": {
          "model_module": "@jupyter-widgets/controls",
          "model_name": "DescriptionStyleModel",
          "state": {
            "_view_name": "StyleView",
            "_model_name": "DescriptionStyleModel",
            "description_width": "",
            "_view_module": "@jupyter-widgets/base",
            "_model_module_version": "1.5.0",
            "_view_count": null,
            "_view_module_version": "1.2.0",
            "_model_module": "@jupyter-widgets/controls"
          }
        },
        "9183864bd5454ef68c3936b539e054ee": {
          "model_module": "@jupyter-widgets/base",
          "model_name": "LayoutModel",
          "state": {
            "_view_name": "LayoutView",
            "grid_template_rows": null,
            "right": null,
            "justify_content": null,
            "_view_module": "@jupyter-widgets/base",
            "overflow": null,
            "_model_module_version": "1.2.0",
            "_view_count": null,
            "flex_flow": null,
            "width": null,
            "min_width": null,
            "border": null,
            "align_items": null,
            "bottom": null,
            "_model_module": "@jupyter-widgets/base",
            "top": null,
            "grid_column": null,
            "overflow_y": null,
            "overflow_x": null,
            "grid_auto_flow": null,
            "grid_area": null,
            "grid_template_columns": null,
            "flex": null,
            "_model_name": "LayoutModel",
            "justify_items": null,
            "grid_row": null,
            "max_height": null,
            "align_content": null,
            "visibility": null,
            "align_self": null,
            "height": null,
            "min_height": null,
            "padding": null,
            "grid_auto_rows": null,
            "grid_gap": null,
            "max_width": null,
            "order": null,
            "_view_module_version": "1.2.0",
            "grid_template_areas": null,
            "object_position": null,
            "object_fit": null,
            "grid_auto_columns": null,
            "margin": null,
            "display": null,
            "left": null
          }
        }
      }
    }
  },
  "cells": [
    {
      "cell_type": "markdown",
      "metadata": {
        "id": "DTsHLFJ0GBxZ",
        "colab_type": "text"
      },
      "source": [
        "# **Automatic License Plate Recognition**"
      ]
    },
    {
      "cell_type": "markdown",
      "metadata": {
        "id": "VJqi4BshIstW",
        "colab_type": "text"
      },
      "source": [
        "Automatic license plate recognition (ALPR) is the extraction of vehicle license plate information from an image. The extracted information can be used in many applications such as electronic payment systems at toll plazas and parking areas. It can also be used for freeway and urban traffic surveillance.  \n",
        "\n",
        "In this Notebook, given an image of a license plate we aim to correctly identify the registration number using Character segmentation  and Convolutional Neural Network Models (CNN). "
      ]
    },
    {
      "cell_type": "markdown",
      "metadata": {
        "id": "CF4j_ketnoV_",
        "colab_type": "text"
      },
      "source": [
        "Our ALPR system can be split into two stages: \n",
        "\n",
        "*  **Character recognition**   - given an image of character classify the character \n",
        "\n",
        "*   **Character segmentation** - extract the alphanumeric characters from the plate  \n",
        "\n",
        "\n",
        "\n"
      ]
    },
    {
      "cell_type": "markdown",
      "metadata": {
        "id": "9hAG7oijHMRX",
        "colab_type": "text"
      },
      "source": [
        "## Initial Steps"
      ]
    },
    {
      "cell_type": "markdown",
      "metadata": {
        "id": "W__qsZ0NGR84",
        "colab_type": "text"
      },
      "source": [
        "First we import the required libraries for this project."
      ]
    },
    {
      "cell_type": "code",
      "metadata": {
        "id": "3CrCty_iMkOI",
        "colab_type": "code",
        "colab": {
          "base_uri": "https://localhost:8080/",
          "height": 72
        },
        "outputId": "de1800b7-ef55-45a3-f29c-708d6f4ac96f"
      },
      "source": [
        "import cv2\n",
        "import numpy as np\n",
        "import pandas as pd\n",
        "import torch\n",
        "import torch.nn as nn\n",
        "import torch.optim as optim\n",
        "import torch.nn.functional as F\n",
        "import os\n",
        "import json\n",
        "import re\n",
        "from pprint import pprint\n",
        "import random\n",
        "import matplotlib.pyplot as plt\n",
        "import seaborn as sb\n",
        "import time\n",
        "\n",
        "from PIL import Image\n",
        "from PIL import ImageOps\n",
        "from torchvision import datasets, transforms\n",
        "from torch.autograd import Variable\n",
        "import matplotlib.pyplot as plt\n",
        "from torchvision.datasets import ImageFolder\n",
        "from torch.utils.data import DataLoader\n",
        "from torchvision.transforms import ToTensor\n",
        "from torchvision import datasets\n",
        "from torchvision import models\n",
        "from torchvision import transforms\n",
        "from google.colab.patches import cv2_imshow\n",
        "\n",
        "torch.backends.cudnn.deterministic = True\n",
        "device = torch.device('cuda' if torch.cuda.is_available() else 'cpu')"
      ],
      "execution_count": 1,
      "outputs": [
        {
          "output_type": "stream",
          "text": [
            "/usr/local/lib/python3.6/dist-packages/statsmodels/tools/_testing.py:19: FutureWarning: pandas.util.testing is deprecated. Use the functions in the public API at pandas.testing instead.\n",
            "  import pandas.util.testing as tm\n"
          ],
          "name": "stderr"
        }
      ]
    },
    {
      "cell_type": "markdown",
      "metadata": {
        "id": "59Nzz4f3GvM6",
        "colab_type": "text"
      },
      "source": [
        "**Mounting Drive** <br></br>\n",
        "If we are opening this Notebook in collab, we need to mount the drive inorder to access Dataset present in the drive folder"
      ]
    },
    {
      "cell_type": "code",
      "metadata": {
        "id": "8Dwsv5_hbVSP",
        "colab_type": "code",
        "outputId": "63e449b7-2e03-4beb-e63b-dc0652493686",
        "colab": {
          "base_uri": "https://localhost:8080/",
          "height": 125
        }
      },
      "source": [
        "from google.colab import drive\n",
        "drive.mount('/content/drive')"
      ],
      "execution_count": 2,
      "outputs": [
        {
          "output_type": "stream",
          "text": [
            "Go to this URL in a browser: https://accounts.google.com/o/oauth2/auth?client_id=947318989803-6bn6qk8qdgf4n4g3pfee6491hc0brc4i.apps.googleusercontent.com&redirect_uri=urn%3aietf%3awg%3aoauth%3a2.0%3aoob&response_type=code&scope=email%20https%3a%2f%2fwww.googleapis.com%2fauth%2fdocs.test%20https%3a%2f%2fwww.googleapis.com%2fauth%2fdrive%20https%3a%2f%2fwww.googleapis.com%2fauth%2fdrive.photos.readonly%20https%3a%2f%2fwww.googleapis.com%2fauth%2fpeopleapi.readonly\n",
            "\n",
            "Enter your authorization code:\n",
            "··········\n",
            "Mounted at /content/drive\n"
          ],
          "name": "stdout"
        }
      ]
    },
    {
      "cell_type": "code",
      "metadata": {
        "id": "W4OE9xKGiJ9x",
        "colab_type": "code",
        "outputId": "bd327597-d928-47b0-8510-65d144e7dcdc",
        "colab": {
          "base_uri": "https://localhost:8080/",
          "height": 158
        }
      },
      "source": [
        "!apt install unzip"
      ],
      "execution_count": 3,
      "outputs": [
        {
          "output_type": "stream",
          "text": [
            "Reading package lists... Done\n",
            "Building dependency tree       \n",
            "Reading state information... Done\n",
            "unzip is already the newest version (6.0-21ubuntu1).\n",
            "The following package was automatically installed and is no longer required:\n",
            "  libnvidia-common-440\n",
            "Use 'apt autoremove' to remove it.\n",
            "0 upgraded, 0 newly installed, 0 to remove and 43 not upgraded.\n"
          ],
          "name": "stdout"
        }
      ]
    },
    {
      "cell_type": "code",
      "metadata": {
        "id": "N2fDkWB1Mp36",
        "colab_type": "code",
        "outputId": "1e32fce0-b10e-492b-8642-31e060590702",
        "colab": {
          "base_uri": "https://localhost:8080/",
          "height": 34
        }
      },
      "source": [
        "%cd /content/drive/\"My Drive\"/CS274P"
      ],
      "execution_count": 3,
      "outputs": [
        {
          "output_type": "stream",
          "text": [
            "/content/drive/My Drive/CS274P\n"
          ],
          "name": "stdout"
        }
      ]
    },
    {
      "cell_type": "markdown",
      "metadata": {
        "id": "gOM7MP1gm1Hz",
        "colab_type": "text"
      },
      "source": [
        "Re-confirming the path to project folder <br></br>\n",
        "The project's root/main folder is '**CS274P**'.\n",
        "Inside this folder we have:\n",
        "1. ALPR.ipnyb notebook\n",
        "2. working_org\n",
        "3. LP_Dataset\n",
        "4. Saved model"
      ]
    },
    {
      "cell_type": "markdown",
      "metadata": {
        "id": "F44Iuz6LcsWf",
        "colab_type": "text"
      },
      "source": [
        "## Character Recongition"
      ]
    },
    {
      "cell_type": "markdown",
      "metadata": {
        "id": "eCJ-B0KqpiYg",
        "colab_type": "text"
      },
      "source": [
        "Since we are trying to classify captial letter Alphabets and Digits, we created a **lbls dictionary** as follows:"
      ]
    },
    {
      "cell_type": "code",
      "metadata": {
        "id": "TVqAHZp3Naor",
        "colab_type": "code",
        "colab": {}
      },
      "source": [
        "lbls = {\n",
        "    0: '0', 1: '1', 2: '2', 3: '3',\n",
        "    4: '4', 5: '5', 6: '6', 7: '7', 8: '8', 9: '9',\n",
        "    10: 'A', 11: 'B', 12: 'C', 13: 'D', 14: 'E', 15: 'F',\n",
        "    16: 'G', 17: 'H', 18: 'I', 19: 'J', 20: 'K', 21: 'L',\n",
        "    22: 'M', 23: 'N', 24: 'O', 25: 'P', 26: 'Q', 27: 'R',\n",
        "    28: 'S', 29: 'T', 30: 'U', 31: 'V', 32: 'W', 33: 'X',\n",
        "    34: 'Y', 35: 'Z'\n",
        "}"
      ],
      "execution_count": 0,
      "outputs": []
    },
    {
      "cell_type": "markdown",
      "metadata": {
        "id": "cFcebzh1D-FR",
        "colab_type": "text"
      },
      "source": [
        "### Dataset and visualization "
      ]
    },
    {
      "cell_type": "markdown",
      "metadata": {
        "id": "_UOJ0F5vqPAD",
        "colab_type": "text"
      },
      "source": [
        "The training and validaion data is present inside the working_org directory. Inside the working_org there are 2 folders.\n",
        "Each of these folders contain individual folders for each character.\n",
        "1.   **/train**\n",
        "*   /0\n",
        "*   /1\n",
        "*   ..\n",
        "*   /Z\n",
        "2.   **/val**\n",
        "*   /0\n",
        "*   /1\n",
        "*   ..\n",
        "*   /Z\n",
        "\n",
        "Next we will try to find the number of images of each character present in train and validation data."
      ]
    },
    {
      "cell_type": "markdown",
      "metadata": {
        "id": "DAiyYWEI8Vho",
        "colab_type": "text"
      },
      "source": [
        "*Accessing drive files from collab is taking time. This cell takes 2-5min to complete execution.* <br></br>\n",
        "We can skip EDA and move to [Model](#scrollTo=4jAXwuGcEWMf)"
      ]
    },
    {
      "cell_type": "code",
      "metadata": {
        "id": "zLwcEnc0tPq3",
        "colab_type": "code",
        "colab": {}
      },
      "source": [
        "train_hist = {}\n",
        "val_hist = {}\n",
        "\n",
        "for char in lbls:\n",
        "  DIR = 'working_org/train/'+lbls[char]\n",
        "  if os.path.exists(DIR):\n",
        "    count = len([name for name in os.listdir(DIR) if os.path.isfile(os.path.join(DIR, name))])\n",
        "    train_hist[lbls[char]] = count\n",
        "\n",
        "for char in lbls:\n",
        "  DIR = 'working_org/val/'+lbls[char]\n",
        "  if os.path.exists(DIR):\n",
        "    count = len([name for name in os.listdir(DIR) if os.path.isfile(os.path.join(DIR, name))])\n",
        "    val_hist[lbls[char]] = count\n",
        "\n",
        "# print(train_hist)\n",
        "# print(val_hist)"
      ],
      "execution_count": 0,
      "outputs": []
    },
    {
      "cell_type": "code",
      "metadata": {
        "id": "Sx4uR5RN-ByD",
        "colab_type": "code",
        "outputId": "783e1585-da38-46b0-c0c4-02f3ad85a21d",
        "colab": {
          "base_uri": "https://localhost:8080/",
          "height": 356
        }
      },
      "source": [
        "fig, ax = plt.subplots(nrows=1, ncols=2)\n",
        "fig.set_size_inches(18, 5)\n",
        "fig.suptitle('Histogram Plots', fontsize=20)\n",
        "ax[0].set_title('Training Data')\n",
        "ax[0].bar(train_hist.keys(), train_hist.values(), width=0.3, color='g')\n",
        "ax[1].set_title('Validation Data')\n",
        "ax[1].bar(val_hist.keys(), val_hist.values(), width=0.3, color='g')\n",
        "plt.show()"
      ],
      "execution_count": 8,
      "outputs": [
        {
          "output_type": "display_data",
          "data": {
            "image/png": "[encoded data removed]",
            "text/plain": [
              "<Figure size 1296x360 with 2 Axes>"
            ]
          },
          "metadata": {
            "tags": [],
            "needs_background": "light"
          }
        }
      ]
    },
    {
      "cell_type": "markdown",
      "metadata": {
        "id": "BceMLabeC91Z",
        "colab_type": "text"
      },
      "source": [
        "We see that the number of samples for characters **G, Q, W, X, Y** are less\n",
        "\n",
        "Later we try to add more samples for those characters by Data augmentation. </br>\n",
        "We rotate image by 15 degrees clockwise and anti-clockwise and added a saved copy to the dataset. </br>\n",
        "But we found that data augmentation didn't increase prediction accuracy.</br>\n",
        "Therefore, in our final code we have not included data augmentation though we mention the function which is used to rotate_image.\n"
      ]
    },
    {
      "cell_type": "code",
      "metadata": {
        "id": "Rr_rn-8DkdJ_",
        "colab_type": "code",
        "colab": {}
      },
      "source": [
        "def rotate_image(image, angle):\n",
        "  image_center = tuple(np.array(image.shape[1::-1]) / 2)\n",
        "  rot_mat = cv2.getRotationMatrix2D(image_center, angle, 1.0)\n",
        "  result = cv2.warpAffine(image, rot_mat, image.shape[1::-1], flags=cv2.INTER_LINEAR)\n",
        "  return result\n",
        "\n",
        "image = cv2.imread(\"working_org/val/Y/10511_2.png\");\n",
        "cv2_imshow(rotate_image(image, 15))"
      ],
      "execution_count": 0,
      "outputs": []
    },
    {
      "cell_type": "markdown",
      "metadata": {
        "id": "4jAXwuGcEWMf",
        "colab_type": "text"
      },
      "source": [
        "### Model"
      ]
    },
    {
      "cell_type": "markdown",
      "metadata": {
        "id": "EZlNVcRRxDgb",
        "colab_type": "text"
      },
      "source": [
        "**To load the trained model please skip to [Evaluation](#scrollTo=2P_lP1N4xqj5)** "
      ]
    },
    {
      "cell_type": "markdown",
      "metadata": {
        "id": "0wP5rNyy08wW",
        "colab_type": "text"
      },
      "source": [
        "Transfer Learning with Fixed Encoder. </br>\n",
        "We have downloaded resnet101 model."
      ]
    },
    {
      "cell_type": "code",
      "metadata": {
        "id": "jZT3KNgxNdQL",
        "colab_type": "code",
        "outputId": "e3e7e32d-9fe5-4f4a-a18a-6a29304e9b08",
        "colab": {
          "base_uri": "https://localhost:8080/",
          "height": 84,
          "referenced_widgets": [
            "b8644334f6384d0c987b549a2f0865ff",
            "53b90ba40caa45df969f22338f2932b9",
            "cf2e7e22a6f04589b009f14bfcfae4cf",
            "812123ebae5c4d07b118018c49011b36",
            "9019ac6e53d04566ad1a2da3b56db6be",
            "3d8cf1d227e44cf9ad1d9fd49b6b0204",
            "8c24f7561b4d4a64a42701233d0ac230",
            "9183864bd5454ef68c3936b539e054ee"
          ]
        }
      },
      "source": [
        "model = models.resnet101(pretrained=True)\n",
        "model = model.to(device)"
      ],
      "execution_count": 5,
      "outputs": [
        {
          "output_type": "stream",
          "text": [
            "Downloading: \"https://download.pytorch.org/models/resnet101-5d3b4d8f.pth\" to /root/.cache/torch/checkpoints/resnet101-5d3b4d8f.pth\n"
          ],
          "name": "stderr"
        },
        {
          "output_type": "display_data",
          "data": {
            "application/vnd.jupyter.widget-view+json": {
              "model_id": "b8644334f6384d0c987b549a2f0865ff",
              "version_minor": 0,
              "version_major": 2
            },
            "text/plain": [
              "HBox(children=(FloatProgress(value=0.0, max=178728960.0), HTML(value='')))"
            ]
          },
          "metadata": {
            "tags": []
          }
        },
        {
          "output_type": "stream",
          "text": [
            "\n"
          ],
          "name": "stdout"
        }
      ]
    },
    {
      "cell_type": "markdown",
      "metadata": {
        "id": "W19cpmnFFoRC",
        "colab_type": "text"
      },
      "source": [
        "Setting the output layers."
      ]
    },
    {
      "cell_type": "code",
      "metadata": {
        "id": "7tNV0-wvNslR",
        "colab_type": "code",
        "colab": {}
      },
      "source": [
        "in_features = model.fc.in_features\n",
        "model.fc = torch.nn.Linear(in_features, len(lbls))"
      ],
      "execution_count": 0,
      "outputs": []
    },
    {
      "cell_type": "markdown",
      "metadata": {
        "id": "TPoVsrVn1HK3",
        "colab_type": "text"
      },
      "source": [
        "1. Loss function : **CrossEntropy loss**\n",
        "2. Optimizer     : We are using **Adam optimizer** with learning rate 0.001\n",
        "3. Scheduler     : Learning rate is decreased by a factor of 0.1 for every 3 epochs\n"
      ]
    },
    {
      "cell_type": "code",
      "metadata": {
        "id": "4OHp3ab1Nd3j",
        "colab_type": "code",
        "colab": {}
      },
      "source": [
        "criterion = torch.nn.CrossEntropyLoss()\n",
        "optimizer = torch.optim.Adam(model.parameters(), lr=0.001)\n",
        "scheduler = torch.optim.lr_scheduler.StepLR(optimizer, step_size=3, gamma=0.1)"
      ],
      "execution_count": 0,
      "outputs": []
    },
    {
      "cell_type": "markdown",
      "metadata": {
        "id": "Rp26rU2Zq886",
        "colab_type": "text"
      },
      "source": [
        "Image is normalized and transform to tensor"
      ]
    },
    {
      "cell_type": "code",
      "metadata": {
        "id": "1n9l1ex51Rgx",
        "colab_type": "code",
        "colab": {}
      },
      "source": [
        "data_transforms = {\n",
        "    'train': transforms.Compose([\n",
        "        transforms.ToTensor(),\n",
        "        transforms.Normalize([0.485, 0.456, 0.406], [0.229, 0.224, 0.225])\n",
        "    ]),\n",
        "    'val': transforms.Compose([\n",
        "        transforms.ToTensor(),\n",
        "        transforms.Normalize([0.485, 0.456, 0.406], [0.229, 0.224, 0.225])\n",
        "    ]),\n",
        "}"
      ],
      "execution_count": 0,
      "outputs": []
    },
    {
      "cell_type": "markdown",
      "metadata": {
        "id": "dXQlzwYa1YCN",
        "colab_type": "text"
      },
      "source": [
        "Here we load the datasets and then into data loaders. <br />\n",
        "The data is shuffled before training. <br />\n",
        "\n",
        "Upon trying different values for batch size and num workers we found our model works better when:\n",
        "1. Batch size is set as 40. \n",
        "2. Num workers is also 40.\n",
        "\n"
      ]
    },
    {
      "cell_type": "code",
      "metadata": {
        "id": "yQB7i2bE1Rer",
        "colab_type": "code",
        "colab": {}
      },
      "source": [
        "data_dir = 'working_org'\n",
        "image_datasets = {x: datasets.ImageFolder(os.path.join(data_dir, x),data_transforms[x])\n",
        "                  for x in ['train', 'val']}"
      ],
      "execution_count": 0,
      "outputs": []
    },
    {
      "cell_type": "code",
      "metadata": {
        "id": "UKSekJbj1RYU",
        "colab_type": "code",
        "colab": {}
      },
      "source": [
        "dataloaders = {x: torch.utils.data.DataLoader(image_datasets[x], batch_size=30,\n",
        "                                             shuffle=True, num_workers=30)\n",
        "              for x in ['train', 'val']}"
      ],
      "execution_count": 0,
      "outputs": []
    },
    {
      "cell_type": "code",
      "metadata": {
        "id": "DHl8DJTM1ROI",
        "colab_type": "code",
        "colab": {}
      },
      "source": [
        "dataset_sizes = {x: len(image_datasets[x]) for x in ['train', 'val']}\n",
        "class_names = image_datasets['train'].classes\n",
        "# print(class_names)\n",
        "# print(dataset_sizes)"
      ],
      "execution_count": 0,
      "outputs": []
    },
    {
      "cell_type": "markdown",
      "metadata": {
        "id": "-cDKhBOgHhBL",
        "colab_type": "text"
      },
      "source": [
        "### Training"
      ]
    },
    {
      "cell_type": "markdown",
      "metadata": {
        "id": "y0qvcMWK-sK3",
        "colab_type": "text"
      },
      "source": [
        "*We referred this code from Prof. Isak Bosman's CS274P week7 lecture on transfer learning.*"
      ]
    },
    {
      "cell_type": "code",
      "metadata": {
        "id": "QTDjUNdb1REk",
        "colab_type": "code",
        "colab": {}
      },
      "source": [
        "import time\n",
        "def train(model, num_epochs):\n",
        "    model = model.to(device)\n",
        "    since = time.time()\n",
        "    best_acc = 0.0\n",
        "\n",
        "    for epoch in range(num_epochs):\n",
        "        print('Epoch {}/{}'.format(epoch, num_epochs - 1))\n",
        "        print('-' * 10)\n",
        "        \n",
        "        for phase in ['train', 'val']:\n",
        "            if phase == 'train':\n",
        "                model.train()\n",
        "            else:\n",
        "                model.eval()\n",
        "\n",
        "            running_loss = 0.0\n",
        "            running_corrects = 0\n",
        "\n",
        "            # Iterate over data.\n",
        "            i = 0\n",
        "            num_batches = len(dataloaders[phase])\n",
        "            print(\"Total batches to train \"+str(num_batches))\n",
        "            for inputs, labels in dataloaders[phase]:\n",
        "                inputs = inputs.to(device)\n",
        "                labels = labels.to(device)\n",
        "\n",
        "                # zero the parameter gradients\n",
        "                optimizer.zero_grad()\n",
        "\n",
        "                # forward\n",
        "                # track history if only in train\n",
        "                with torch.set_grad_enabled(phase == 'train'):\n",
        "                    outputs = model(inputs)\n",
        "                    _, preds = torch.max(outputs, 1)\n",
        "                    loss = criterion(outputs, labels)\n",
        "\n",
        "                    # backward + optimize only if in training phase\n",
        "                    if phase == 'train':\n",
        "                        loss.backward()\n",
        "                        optimizer.step()\n",
        "\n",
        "                # statistics\n",
        "                running_loss += loss.item() * inputs.size(0)\n",
        "                running_corrects += torch.sum(preds == labels.data)\n",
        "                i = i+1\n",
        "                if i%50 == 0:\n",
        "                   time_elapsed = time.time() - since\n",
        "                   print(str(round(i*100/len(dataloaders[phase])))+'% done in {:.0f}m {:.0f}s'.format(time_elapsed // 60, time_elapsed % 60))\n",
        "            if phase == 'train':\n",
        "                scheduler.step()\n",
        "\n",
        "            epoch_loss = running_loss / dataset_sizes[phase]\n",
        "            epoch_acc = running_corrects.double() / dataset_sizes[phase]\n",
        "\n",
        "            print('{} Loss: {:.4f} Acc: {:.4f}'.format(\n",
        "                phase, epoch_loss, epoch_acc))\n",
        "\n",
        "            if phase == 'val' and epoch_acc > best_acc:\n",
        "                best_acc = epoch_acc\n",
        "\n",
        "        print()\n",
        "\n",
        "    time_elapsed = time.time() - since\n",
        "    print('Training complete in {:.0f}m {:.0f}s'.format(\n",
        "        time_elapsed // 60, time_elapsed % 60))\n",
        "    print('Best val Acc: {:4f}'.format(best_acc))"
      ],
      "execution_count": 0,
      "outputs": []
    },
    {
      "cell_type": "markdown",
      "metadata": {
        "id": "41natm33HKHS",
        "colab_type": "text"
      },
      "source": [
        "Let the training begin ....<br />\n",
        "**Note**: The initial epoch was taking 10-15 minutes\n"
      ]
    },
    {
      "cell_type": "code",
      "metadata": {
        "id": "6PD5In1H1Q1z",
        "colab_type": "code",
        "colab": {}
      },
      "source": [
        "train(model, num_epochs=2)"
      ],
      "execution_count": 0,
      "outputs": []
    },
    {
      "cell_type": "markdown",
      "metadata": {
        "id": "GvjPfpl92DRJ",
        "colab_type": "text"
      },
      "source": [
        "Next we are saving the trained model as **Trained_Model** in the root folder (*CS274P*)"
      ]
    },
    {
      "cell_type": "code",
      "metadata": {
        "id": "k6_f4HaY8vTc",
        "colab_type": "code",
        "outputId": "bfee8a5f-81a0-40a2-e03b-ee051ce857fc",
        "colab": {
          "base_uri": "https://localhost:8080/",
          "height": 70
        }
      },
      "source": [
        "torch.save(model, 'Trained_Model')\n",
        "!ls"
      ],
      "execution_count": 38,
      "outputs": [
        {
          "output_type": "stream",
          "text": [
            "ALPR.ipynb\t   LP_Dataset.zip  TransferLearning.ipynb  Working.zip\n",
            "Character_Dataset  pipeline.png    Working\n",
            "LP_Dataset\t   Trained_Model   working_org\n"
          ],
          "name": "stdout"
        }
      ]
    },
    {
      "cell_type": "markdown",
      "metadata": {
        "id": "2P_lP1N4xqj5",
        "colab_type": "text"
      },
      "source": [
        "### Evaluation "
      ]
    },
    {
      "cell_type": "markdown",
      "metadata": {
        "id": "3cPPcE5YDO4b",
        "colab_type": "text"
      },
      "source": [
        "The trained model is saved in the root folder as 'Trained_Model'. Here we load the saved model."
      ]
    },
    {
      "cell_type": "code",
      "metadata": {
        "id": "5C840f_0x5vV",
        "colab_type": "code",
        "colab": {}
      },
      "source": [
        "model = torch.load('Trained_Model')\n",
        "model.eval()"
      ],
      "execution_count": 0,
      "outputs": []
    },
    {
      "cell_type": "markdown",
      "metadata": {
        "id": "g_FemH2CFdHc",
        "colab_type": "text"
      },
      "source": [
        "Helper function to preprocess an Image."
      ]
    },
    {
      "cell_type": "code",
      "metadata": {
        "id": "V--QWIoIG857",
        "colab_type": "code",
        "colab": {}
      },
      "source": [
        "preprocess = transforms.Compose([\n",
        "    transforms.ToTensor(),\n",
        "    transforms.Normalize([0.485, 0.456, 0.406], [0.229, 0.224, 0.225])\n",
        "])"
      ],
      "execution_count": 0,
      "outputs": []
    },
    {
      "cell_type": "markdown",
      "metadata": {
        "id": "PBLOwu9dOqtF",
        "colab_type": "text"
      },
      "source": [
        "Here we take a sample image from the validation set and see how the model is performing."
      ]
    },
    {
      "cell_type": "code",
      "metadata": {
        "id": "AZqdcUcx2JYD",
        "colab_type": "code",
        "outputId": "20bc2d8f-6700-4734-ca95-feb0a2d2911d",
        "colab": {
          "base_uri": "https://localhost:8080/",
          "height": 105
        }
      },
      "source": [
        "image = Image.open(\"working_org/val/Y/10511_2.png\");\n",
        "display(image)\n",
        "image = image.convert('RGB') #We convert the image to RGB to feed it into the model\n",
        "image = preprocess(image)\n",
        "im = image.unsqueeze(0).to(device)\n",
        "pred = model(im) #Call the trained model \n",
        "_, output = torch.max(pred, 1)\n",
        "confidence = torch.nn.functional.softmax(pred, dim=1)[0] * 100\n",
        "print(\"The model predicts it as \"+str(lbls[int(output[0])+1])+\" with \"+str(round(confidence[output[0]].item(),2))+\" confidence.\")"
      ],
      "execution_count": 41,
      "outputs": [
        {
          "output_type": "display_data",
          "data": {
            "image/png": "[encoded data removed]",
            "text/plain": [
              "<PIL.PngImagePlugin.PngImageFile image mode=L size=30x70 at 0x7F966A3A5208>"
            ]
          },
          "metadata": {
            "tags": []
          }
        },
        {
          "output_type": "stream",
          "text": [
            "The model predicts it as Y with 99.96 confidence.\n"
          ],
          "name": "stdout"
        }
      ]
    },
    {
      "cell_type": "markdown",
      "metadata": {
        "id": "p_BusgFDNbYj",
        "colab_type": "text"
      },
      "source": [
        "## Character Segmentation"
      ]
    },
    {
      "cell_type": "markdown",
      "metadata": {
        "id": "QiLDq6-5IS8m",
        "colab_type": "text"
      },
      "source": [
        "**License Plate Image Pre-Processing**"
      ]
    },
    {
      "cell_type": "markdown",
      "metadata": {
        "id": "97-o-somJBBG",
        "colab_type": "text"
      },
      "source": [
        "Given an image of the license plate, we need to extract individual characters present in it and feed it as input to the next stage in the pipeline. We will be using cv2 library to process the image and extract the characters. Before plotting contours, we perform a sequence of steps to pre-process the image. \n",
        "1. RGB to Grey  : We convert the image into grayscale format. \n",
        "2. Crop Borders :\n",
        "3. Re-sizing         : Since input images might be of different size, we need to resize every image to a standard size. \n",
        "4. Blur                 : Then we blur the image to remove noise. \n",
        "5. Thresholding  : We convert the grayscale image into binary (Black white) image after sharpening if necessary. \n",
        "6. Dilation: \n",
        "7. Segmentation : Finally, we try to find contours and use bounding rectangles to segment the characters. "
      ]
    },
    {
      "cell_type": "code",
      "metadata": {
        "id": "ZJRAH6tEhesN",
        "colab_type": "code",
        "colab": {}
      },
      "source": [
        "#Sometimes segmentation results in 8 characters even though there are only 7 characters in a license plate\n",
        "#In such case we can get the actual characters just by removing the first unwanted segmented image\n",
        "def adjust(crop_chars):\n",
        "  if len(crop_chars) == 8:\n",
        "    crop_chars = crop_chars[1:]\n",
        "  return crop_chars"
      ],
      "execution_count": 0,
      "outputs": []
    },
    {
      "cell_type": "code",
      "metadata": {
        "id": "CWhGM2d2H5Fg",
        "colab_type": "code",
        "colab": {}
      },
      "source": [
        "def pre_process(img):\n",
        "    \n",
        "    #Convert to gray scale\n",
        "    img = cv2.cvtColor(img, cv2.COLOR_BGR2GRAY)\n",
        "\n",
        "    #Crop Borders\n",
        "    img = img[8:img.shape[0]-8, 10:img.shape[1]-10]\n",
        "\n",
        "    # resize image\n",
        "    scale_percent = 350 # percent of original size\n",
        "    width = int(img.shape[1] * scale_percent / 100)\n",
        "    height = int(img.shape[0] * scale_percent / 100)\n",
        "    dim = (width, height)\n",
        "    img = cv2.resize(img, dim, interpolation = cv2.INTER_AREA)\n",
        "    #print(img.shape)\n",
        "\n",
        "    #Blur\n",
        "    img = cv2.GaussianBlur(img,(7,7),0)\n",
        "\n",
        "    #Thresholding\n",
        "    thresh = cv2.adaptiveThreshold(img, 255, cv2.ADAPTIVE_THRESH_GAUSSIAN_C, \n",
        "                                              cv2.THRESH_BINARY, 55, 5) \n",
        "\n",
        "\n",
        "    # Appplying dilation on the threshold image\n",
        "    rect_kernel = cv2.getStructuringElement(cv2.MORPH_RECT, (2, 2)) \n",
        "    dilation = cv2.dilate(thresh, rect_kernel, iterations = 1) \n",
        "    dilation = cv2.bitwise_not(dilation)\n",
        "    dilation = dilation[0:dilation.shape[0], 5:dilation.shape[1]]\n",
        "    img = img[0:dilation.shape[0]-0, 5:dilation.shape[1]]\n",
        "\n",
        "    cont, _  = cv2.findContours(dilation, cv2.RETR_EXTERNAL, cv2.CHAIN_APPROX_SIMPLE)    \n",
        "\n",
        "    # creat a copy version \"test_roi\" of plat_image to draw bounding box\n",
        "    test_roi = img.copy()\n",
        "\n",
        "    # Initialize a list which will be used to append charater image\n",
        "    crop_characters = []\n",
        "\n",
        "    # define standard width and height of character\n",
        "    digit_w, digit_h = 30, 70\n",
        "\n",
        "    # Re-arrange contours from left to right\n",
        "    def sort_contours(cnts,reverse = False):\n",
        "        i = 0\n",
        "        boundingBoxes = [cv2.boundingRect(c) for c in cnts]\n",
        "        (cnts, boundingBoxes) = zip(*sorted(zip(cnts, boundingBoxes),\n",
        "                                            key=lambda b: b[1][i], reverse=reverse))\n",
        "\n",
        "        return cnts\n",
        "\n",
        "#     cv2.imshow('Threshold',thresh)    \n",
        "#     cv2.imshow('Dilation',dilation)\n",
        "#     cv2.imshow('Final',test_roi)\n",
        "#     cv2.waitKey()\n",
        "    \n",
        "    i = 0\n",
        "    for c in sort_contours(cont):\n",
        "        (x, y, w, h) = cv2.boundingRect(c)\n",
        "        ratio = h/w\n",
        "        if 0.5<=ratio<=5.5: # Only select contour with defined ratio\n",
        "            if h/img.shape[0]>=0.4 and h/img.shape[0]<=0.95: # Select contour which has the height larger than 50% of the plate\n",
        "                # Draw bounding box arroung digit number\n",
        "                cv2.rectangle(test_roi, (x, y), (x + w, y + h), (0, 255,0), 2)\n",
        "\n",
        "                # Sperate number and gibe prediction\n",
        "                curr_num = dilation[y:y+h,x:x+w]\n",
        "                curr_num = cv2.resize(curr_num, dsize=(digit_w, digit_h))\n",
        "                _, curr_num = cv2.threshold(curr_num, 220, 255, cv2.THRESH_BINARY + cv2.THRESH_OTSU)\n",
        "                seg = Image.fromarray(curr_num)\n",
        "                crop_characters.append(seg)\n",
        "\n",
        "                #Saving segments\n",
        "#                 roi = test_roi[y:y+h, x:x+w]\n",
        "#                 cv2.imwrite(\"char\"+str(i)+\".jpg\", roi)\n",
        "                \n",
        "#                 cv2.imshow(\"seg\"+str(i), curr_num)\n",
        "                i = i+1\n",
        "    return adjust(crop_characters)            "
      ],
      "execution_count": 0,
      "outputs": []
    },
    {
      "cell_type": "markdown",
      "metadata": {
        "id": "yS7pFljri_Nt",
        "colab_type": "text"
      },
      "source": [
        "## Main"
      ]
    },
    {
      "cell_type": "markdown",
      "metadata": {
        "id": "w3elCcqYielU",
        "colab_type": "text"
      },
      "source": [
        "Confirming the path to project folder"
      ]
    },
    {
      "cell_type": "code",
      "metadata": {
        "id": "WIPNCMMJhTun",
        "colab_type": "code",
        "outputId": "34aed239-861b-44b2-a952-621aa98d116a",
        "colab": {
          "base_uri": "https://localhost:8080/",
          "height": 34
        }
      },
      "source": [
        "%cd /content/drive/\"My Drive\"/CS274P"
      ],
      "execution_count": 44,
      "outputs": [
        {
          "output_type": "stream",
          "text": [
            "/content/drive/My Drive/CS274P\n"
          ],
          "name": "stdout"
        }
      ]
    },
    {
      "cell_type": "markdown",
      "metadata": {
        "id": "ETe0UxjdAFrC",
        "colab_type": "text"
      },
      "source": [
        "Extract the License plate dataset which contains the images to be tested"
      ]
    },
    {
      "cell_type": "code",
      "metadata": {
        "id": "3CTKwjkQ_Xdr",
        "colab_type": "code",
        "colab": {
          "base_uri": "https://localhost:8080/",
          "height": 34
        },
        "outputId": "7ca767c9-d129-4be7-e286-0810d01ac321"
      },
      "source": [
        "if os.path.exists('LP_Dataset'):\n",
        "  print(\"License plate dataset already extracted\")\n",
        "else:\n",
        "  !unzip LP_Dataset.zip"
      ],
      "execution_count": 45,
      "outputs": [
        {
          "output_type": "stream",
          "text": [
            "License plate dataset already extracted\n"
          ],
          "name": "stdout"
        }
      ]
    },
    {
      "cell_type": "markdown",
      "metadata": {
        "id": "lpURsZEOZtGj",
        "colab_type": "text"
      },
      "source": [
        "**Helper function which calls the trained CNN model to recognise the segmented character**"
      ]
    },
    {
      "cell_type": "code",
      "metadata": {
        "id": "PUz3CgZnpOnh",
        "colab_type": "code",
        "colab": {}
      },
      "source": [
        "def recognise(chars):\n",
        "  plate = \"\"\n",
        "  # Iterate over the array of Images and predict each Image\n",
        "  for image in chars:\n",
        "    image = image.convert('RGB')\n",
        "    image = preprocess(image)\n",
        "    im = image.unsqueeze(0).to(device)\n",
        "    pred = model(im)\n",
        "    _, output = torch.max(pred, 1)\n",
        "    confidence = torch.nn.functional.softmax(pred, dim=1)[0] * 100\n",
        "    # print(class_names[int(output[0])])\n",
        "    plate = plate + lbls[int(output[0])]\n",
        "    # print(confidence[output[0]].item())\n",
        "  return plate"
      ],
      "execution_count": 0,
      "outputs": []
    },
    {
      "cell_type": "markdown",
      "metadata": {
        "id": "9MuU7MkHAjsh",
        "colab_type": "text"
      },
      "source": [
        "**The Main function.**\n",
        "1. Given a image of license plate we first call the pre_process function to segment characters.\n",
        "2. Later we pass the segmented characters to the model to predict.\n",
        "3. We append the predicted values to from a string.\n",
        "4. The String is then compared with the actual license-plate number to calculate the accuracy."
      ]
    },
    {
      "cell_type": "code",
      "metadata": {
        "id": "K07PzyKKL-zy",
        "colab_type": "code",
        "colab": {}
      },
      "source": [
        "def predict(df):\n",
        "    total = df.shape[0]\n",
        "    segmented = 0\n",
        "    recognised = 0\n",
        "    for index, row in df.iterrows():\n",
        "        path = \"LP_Dataset/\"+ row['image_path']\n",
        "        X = cv2.imread(path) #License plate image\n",
        "        Y = row['lp']        #License plate number\n",
        "        chars = pre_process(X) #Perform segmentation\n",
        "        if len(chars) == 7:\n",
        "            segmented = segmented + 1\n",
        "            predicted = recognise(chars) #Predict each character\n",
        "            print(\"Actual \"+Y+\" Predicted \"+predicted)\n",
        "            if  predicted == Y:\n",
        "              recognised = recognised+1\n",
        "    print(str(segmented * 100/total)+\" percent of lp images are correctly segmented\")\n",
        "    print(str(recognised * 100/segmented)+\" percent of lp images are correctly recognised\")\n",
        "    return "
      ],
      "execution_count": 0,
      "outputs": []
    },
    {
      "cell_type": "markdown",
      "metadata": {
        "id": "wyDSXjJOBUCJ",
        "colab_type": "text"
      },
      "source": [
        "Load the LP dataset and see the properties"
      ]
    },
    {
      "cell_type": "code",
      "metadata": {
        "id": "3EmlH3yCL-8f",
        "colab_type": "code",
        "outputId": "a9603ab9-a6fe-42e9-c3ea-32b5b438141e",
        "colab": {
          "base_uri": "https://localhost:8080/",
          "height": 228
        }
      },
      "source": [
        "#Load the excel sheet into a data frame\n",
        "df = pd.read_csv(\"LP_Dataset/trainVal.csv\")\n",
        "\n",
        "df = df.drop(columns=['track_id', 'train'])\n",
        "\n",
        "print(df.head(10))\n",
        "print(df.shape)"
      ],
      "execution_count": 47,
      "outputs": [
        {
          "output_type": "stream",
          "text": [
            "        image_path       lp\n",
            "0  s01_l01/1_1.png  7C24698\n",
            "1  s01_l01/2_1.png  7C24698\n",
            "2  s01_l01/2_2.png  7C24698\n",
            "3  s01_l01/3_1.png  5AR2347\n",
            "4  s01_l01/4_1.png  5AR2347\n",
            "5  s01_l01/4_2.png  5AR2347\n",
            "6  s01_l01/5_1.png  4B46758\n",
            "7  s01_l01/5_2.png  4B46758\n",
            "8  s01_l01/6_1.png  1BA3102\n",
            "9  s01_l01/6_2.png  1BA3102\n",
            "(28384, 2)\n"
          ],
          "name": "stdout"
        }
      ]
    },
    {
      "cell_type": "markdown",
      "metadata": {
        "id": "9-mM7s5ZHXPw",
        "colab_type": "text"
      },
      "source": [
        "We see that there are 28384 samples. </br>\n",
        "Lets take a single image and see how the program is performing. </br>\n",
        "*Note: It takes 30-45sec for first time.*\n"
      ]
    },
    {
      "cell_type": "code",
      "metadata": {
        "id": "6-6wLkFhGCxv",
        "colab_type": "code",
        "outputId": "50bcad92-a513-4c06-fddc-c4c5b502c5e6",
        "colab": {
          "base_uri": "https://localhost:8080/",
          "height": 116
        }
      },
      "source": [
        "index = 11 #We can change the index to check for another image\n",
        "img_path = \"LP_Dataset/\"+df.iloc[index]['image_path']\n",
        "display(Image.open(img_path).resize((256, 64)))\n",
        "y = df.iloc[index]['lp']\n",
        "print(\"Actual license plate number is \"+str(y))\n",
        "y_pred = recognise(pre_process(cv2.imread(img_path)))\n",
        "print(\"Predicted license plate number is \"+str(y_pred))"
      ],
      "execution_count": 48,
      "outputs": [
        {
          "output_type": "display_data",
          "data": {
            "image/png": "[encoded data removed]",
            "text/plain": [
              "<PIL.Image.Image image mode=RGB size=256x64 at 0x7F966A63BCF8>"
            ]
          },
          "metadata": {
            "tags": []
          }
        },
        {
          "output_type": "stream",
          "text": [
            "Actual license plate number is 9B71888\n",
            "Predicted license plate number is 9B71888\n"
          ],
          "name": "stdout"
        }
      ]
    },
    {
      "cell_type": "markdown",
      "metadata": {
        "id": "un-u-XCSJGIm",
        "colab_type": "text"
      },
      "source": [
        "Now lets run the model on first 1000 images\n"
      ]
    },
    {
      "cell_type": "code",
      "metadata": {
        "id": "WScZKwIFpIvX",
        "colab_type": "code",
        "outputId": "acba32d9-0fd3-40e4-fa75-a56f78870e92",
        "colab": {
          "base_uri": "https://localhost:8080/",
          "height": 1000
        }
      },
      "source": [
        "predict(df.head(1000))  \n"
      ],
      "execution_count": 51,
      "outputs": [
        {
          "output_type": "stream",
          "text": [
            "Actual 7C24698 Predicted 7C24698\n",
            "Actual 7C24698 Predicted 7C24698\n",
            "Actual 7C24698 Predicted 7C2469R\n",
            "Actual 5AR2347 Predicted 5AQ2R47\n",
            "Actual 5AR2347 Predicted 5AQ2B47\n",
            "Actual 4B46758 Predicted 4B46758\n",
            "Actual 4B46758 Predicted A4V675K\n",
            "Actual 1BA3102 Predicted 1BA3102\n",
            "Actual 1BA3102 Predicted SMBAR53\n",
            "Actual 9B71888 Predicted 9B71888\n",
            "Actual 8U21561 Predicted 8E21561\n",
            "Actual 8U21561 Predicted 8T21561\n",
            "Actual 1BJ9597 Predicted 1BJ9597\n",
            "Actual 0P2769F Predicted 0O2762F\n",
            "Actual 0P2769F Predicted 0O2769F\n",
            "Actual 7B81599 Predicted 7B81599\n",
            "Actual 1BE1974 Predicted 18E1974\n",
            "Actual 3B78004 Predicted 3B78005\n",
            "Actual 7C02930 Predicted 7C02930\n",
            "Actual 7C02930 Predicted I7D2930\n",
            "Actual 7B76409 Predicted Y87E409\n",
            "Actual 7B76409 Predicted 7B75409\n",
            "Actual 2M71293 Predicted 2M71293\n",
            "Actual 3B25276 Predicted 3B25276\n",
            "Actual 3B25276 Predicted 3B25276\n",
            "Actual 5AM7771 Predicted 5AM777M\n",
            "Actual 5AM7771 Predicted 5AM7771\n",
            "Actual 1BA9565 Predicted 1BA9565\n",
            "Actual 1BA9565 Predicted 1BA9565\n",
            "Actual 9B71351 Predicted 9B71351\n",
            "Actual 9B71351 Predicted 9B71351\n",
            "Actual 9A93365 Predicted 9A93365\n",
            "Actual 9A93365 Predicted 9A93365\n",
            "Actual 4B59104 Predicted 4B59104\n",
            "Actual 4B59104 Predicted 4B59104\n",
            "Actual 6B72470 Predicted 6B72470\n",
            "Actual 6B72470 Predicted 6B72470\n",
            "Actual 3B35169 Predicted 3B35169\n",
            "Actual 3B35169 Predicted 3B35169\n",
            "Actual 1BD2526 Predicted 1BD2526\n",
            "Actual 1BD2526 Predicted 1BD2526\n",
            "Actual 8B65703 Predicted 8B65703\n",
            "Actual 8B65703 Predicted 8B65703\n",
            "Actual 8B01428 Predicted 8B01428\n",
            "Actual 8B01428 Predicted 8B01428\n",
            "Actual 8B63758 Predicted AQR3Y5K\n",
            "Actual 8B63758 Predicted 8B63758\n",
            "Actual 8B99407 Predicted 8B99407\n",
            "Actual 8B99407 Predicted 8B99407\n",
            "Actual 3B83044 Predicted 3B83044\n",
            "Actual 1BE4623 Predicted 1BE4623\n",
            "Actual 1BE4623 Predicted 1BE4623\n",
            "Actual 5B32230 Predicted 5B32230\n",
            "Actual 5B32230 Predicted 5B32230\n",
            "Actual 1SN0795 Predicted 1RN0795\n",
            "Actual 1SN0795 Predicted 1RN07RE\n",
            "Actual 5B24062 Predicted BY40621\n",
            "Actual 5AK9334 Predicted 5AK9334\n",
            "Actual 4AK0844 Predicted 4AK0844\n",
            "Actual 4C28480 Predicted 4C28480\n",
            "Actual 4C28480 Predicted 4C28480\n",
            "Actual 1BK6738 Predicted 1BK6738\n",
            "Actual 1BK6738 Predicted 1BK6738\n",
            "Actual 8B73553 Predicted 8B73553\n",
            "Actual 8B73553 Predicted 8B73553\n",
            "Actual 5AS4324 Predicted 5AR4324\n",
            "Actual 5AS4324 Predicted 5AR4324\n",
            "Actual BZ02974 Predicted BY02974\n",
            "Actual BZ02974 Predicted BY0297E\n",
            "Actual 5B53260 Predicted 6B53260\n",
            "Actual 5B53260 Predicted 5653260\n",
            "Actual 1BK2894 Predicted 1BK2894\n",
            "Actual 1BK2894 Predicted 1BK2894\n",
            "Actual 2B47182 Predicted 2B47182\n",
            "Actual 2B47182 Predicted 2B47182\n",
            "Actual 1BB6797 Predicted 1BR679Y\n",
            "Actual 5AN8698 Predicted 5AN8698\n",
            "Actual 3E05923 Predicted 3E05923\n",
            "Actual 3E05923 Predicted 3E05923\n",
            "Actual 7B36923 Predicted 7836923\n",
            "Actual 7B36923 Predicted 7B36923\n",
            "Actual BZC0683 Predicted 8YCM288\n",
            "Actual BZC0683 Predicted BYC0683\n",
            "Actual 9B24002 Predicted 9B24002\n",
            "Actual 9B24002 Predicted 9B24002\n",
            "Actual 9B80511 Predicted 9B80511\n",
            "Actual 9B80511 Predicted 9B80511\n",
            "Actual 1BC0686 Predicted 1BC0686\n",
            "Actual 1BC0686 Predicted 1BC0686\n",
            "Actual 7B47541 Predicted 7B47541\n",
            "Actual 7B47541 Predicted 7B47541\n",
            "Actual 2B75460 Predicted 2B75460\n",
            "Actual 8B08776 Predicted 8B08776\n",
            "Actual 8B08776 Predicted 8B08776\n",
            "Actual 7B73308 Predicted 7B73308\n",
            "Actual 7B73308 Predicted 7B73308\n",
            "Actual 8B10065 Predicted 8B10065\n",
            "Actual 8B10065 Predicted 8B10065\n",
            "Actual 6T75399 Predicted 6S75399\n",
            "Actual 6T75399 Predicted 6S75399\n",
            "Actual 6B90385 Predicted 6B90385\n",
            "Actual 4B68015 Predicted 4868015\n",
            "Actual 4B68015 Predicted 4B68015\n",
            "Actual 3H27773 Predicted 3H27773\n",
            "Actual 3H27773 Predicted 3H27773\n",
            "Actual 4E82480 Predicted 4E82480\n",
            "Actual 4E82480 Predicted 4E82480\n",
            "Actual 3C99363 Predicted 3C99363\n",
            "Actual 3C99363 Predicted N3B9363\n",
            "Actual 1M13888 Predicted 1M13888\n",
            "Actual 1M13888 Predicted 1M13888\n",
            "Actual 8B70703 Predicted 8B70703\n",
            "Actual 8B70703 Predicted 8B70703\n",
            "Actual 1BK1757 Predicted 1BK1757\n",
            "Actual 1BK1757 Predicted 1BK1757\n",
            "Actual 5S92877 Predicted 5R9287C\n",
            "Actual 1BF6557 Predicted 1BF6LK7\n",
            "Actual 1BF6557 Predicted 1BF6557\n",
            "Actual 8B07862 Predicted 8B07862\n",
            "Actual 8B07862 Predicted 8B07862\n",
            "Actual 9B49512 Predicted 9B49512\n",
            "Actual 9B49512 Predicted 9B49512\n",
            "Actual 3AZ1356 Predicted 3AY1355\n",
            "Actual 3AZ1356 Predicted 3AY1356\n",
            "Actual 6B72439 Predicted 6B72439\n",
            "Actual 6B72439 Predicted 6B72439\n",
            "Actual 1BE0602 Predicted 1BE0602\n",
            "Actual 1BE0602 Predicted 1BECR02\n",
            "Actual 4J78084 Predicted 4J78084\n",
            "Actual 4B05523 Predicted 4B05523\n",
            "Actual 4B05523 Predicted 4B05523\n",
            "Actual 9B87167 Predicted 9B87167\n",
            "Actual 4J34404 Predicted 4J34404\n",
            "Actual 4J34404 Predicted 4J344C4\n",
            "Actual 9S87551 Predicted 9R87551\n",
            "Actual 9S87551 Predicted 9R87551\n",
            "Actual B0L4750 Predicted IB0L450\n",
            "Actual 4AU7491 Predicted 4AT7491\n",
            "Actual 4AU7491 Predicted 4AT7491\n",
            "Actual 4AD7951 Predicted 4AD7951\n",
            "Actual 4AD7951 Predicted 4AD7951\n",
            "Actual 5Z47227 Predicted 5Y47227\n",
            "Actual 5Z47227 Predicted 5Y47227\n",
            "Actual 7B23812 Predicted 7BY381Y\n",
            "Actual 1B50999 Predicted 1850999\n",
            "Actual 8B42244 Predicted 8B42244\n",
            "Actual 3AB5152 Predicted 3AB5152\n",
            "Actual 3AB5152 Predicted 3AB5152\n",
            "Actual 2B89329 Predicted 2889329\n",
            "Actual 2B89329 Predicted 2B89329\n",
            "Actual 7B90875 Predicted 7B90875\n",
            "Actual 7B90875 Predicted 7B90875\n",
            "Actual 3J75559 Predicted 3J75559\n",
            "Actual 3J75559 Predicted 3J75559\n",
            "Actual 5E24799 Predicted 5E24799\n",
            "Actual 5E24799 Predicted 5E2479A\n",
            "Actual 5E24799 Predicted 5E24799\n",
            "Actual 6B70792 Predicted 6B70792\n",
            "Actual 6B70792 Predicted 6B70792\n",
            "Actual 9B80474 Predicted 9B80474\n",
            "Actual 9B80474 Predicted RB80474\n",
            "Actual 9B14178 Predicted 9B14178\n",
            "Actual 9B14178 Predicted 9B14178\n",
            "Actual 8B74786 Predicted 8B74786\n",
            "Actual 8B74786 Predicted 8B74786\n",
            "Actual 6B44528 Predicted 6B44528\n",
            "Actual 6B44528 Predicted 6R44528\n",
            "Actual BZ02823 Predicted BY02823\n",
            "Actual BZ02823 Predicted BY02B23\n",
            "Actual 3B69076 Predicted 3B69076\n",
            "Actual 3B69076 Predicted 3B69076\n",
            "Actual 5B75087 Predicted 5B75087\n",
            "Actual 5B75087 Predicted 2B75087\n",
            "Actual 9B08002 Predicted 9B08002\n",
            "Actual 9B08002 Predicted 9B08002\n",
            "Actual 4AU5544 Predicted 4AT5544\n",
            "Actual 4AU5544 Predicted 4AT5544\n",
            "Actual 8B42455 Predicted 8B42455\n",
            "Actual 8B42455 Predicted 8B42455\n",
            "Actual 1BI9360 Predicted 1BI9360\n",
            "Actual 1BI9360 Predicted 1BI9360\n",
            "Actual 6B25502 Predicted 6B25502\n",
            "Actual 6B25502 Predicted 6B25502\n",
            "Actual 2AZ1498 Predicted 2AY1498\n",
            "Actual 2AZ1498 Predicted 2AY1498\n",
            "Actual 9B85884 Predicted 9B85884\n",
            "Actual 1E74464 Predicted 1E74464\n",
            "Actual 1E74464 Predicted 1E74464\n",
            "Actual 4B69168 Predicted 4B69168\n",
            "Actual 4B69168 Predicted 4B69M68\n",
            "Actual 6P42310 Predicted 6O42310\n",
            "Actual W70937Y Predicted V70937X\n",
            "Actual 3AF9344 Predicted 3AF9344\n",
            "Actual 3AF9344 Predicted 3AF9344\n",
            "Actual 9B41858 Predicted 9B41858\n",
            "Actual 9B41858 Predicted 9B41858\n",
            "Actual 4AR4872 Predicted 4AQ4872\n",
            "Actual 4AR4872 Predicted 4AQ4872\n",
            "Actual 9B61345 Predicted RB51345\n",
            "Actual 9B61345 Predicted 9B61345\n",
            "Actual 1BE1880 Predicted 1BE1880\n",
            "Actual 1BE1880 Predicted 1BE1880\n",
            "Actual 5J29834 Predicted 5J29834\n",
            "Actual 5J29834 Predicted 5J29B34\n",
            "Actual 4B99835 Predicted 4B99835\n",
            "Actual 4B99835 Predicted 4B99835\n",
            "Actual 6B59549 Predicted 6B59549\n",
            "Actual 6B59549 Predicted 6B59549\n",
            "Actual 5AD0980 Predicted 5AD0980\n",
            "Actual 5AD0980 Predicted 5AD0E80\n",
            "Actual 5E31907 Predicted 5E31907\n",
            "Actual 5E31907 Predicted 5E31907\n",
            "Actual 5B52682 Predicted 5B52682\n",
            "Actual 9S74766 Predicted 9R74766\n",
            "Actual 9S74766 Predicted 9R74766\n",
            "Actual 9B82233 Predicted 9B82233\n",
            "Actual 9B82233 Predicted 9B82233\n",
            "Actual 1BE6775 Predicted 1BE6775\n",
            "Actual 1BE6775 Predicted 1BE6775\n",
            "Actual 9T25655 Predicted 9S25655\n",
            "Actual 9T25655 Predicted 9S25655\n",
            "Actual 8B94606 Predicted 8B94606\n",
            "Actual 8B94606 Predicted 8B94606\n",
            "Actual 9B78817 Predicted 9B78817\n",
            "Actual 9B78817 Predicted 9B78817\n",
            "Actual 7B60009 Predicted 7B6000C\n",
            "Actual 7B60009 Predicted 7B60009\n",
            "Actual 9B86260 Predicted 9B86260\n",
            "Actual 9B86260 Predicted 9B86260\n",
            "Actual 6B69209 Predicted 6B69209\n",
            "Actual 6B69209 Predicted 6B69209\n",
            "Actual BVI1114 Predicted BUI1114\n",
            "Actual BVI1114 Predicted BUI1114\n",
            "Actual 9B86123 Predicted 9B861Y3\n",
            "Actual 9B86123 Predicted 9B86123\n",
            "Actual 1BE7470 Predicted 1AE747C\n",
            "Actual 1BE7470 Predicted 1BE7470\n",
            "Actual 3B25229 Predicted 3B25229\n",
            "Actual 3B25229 Predicted 3B25229\n",
            "Actual 8B47408 Predicted MB474CR\n",
            "Actual 8B47408 Predicted 8B47408\n",
            "Actual 4J26133 Predicted 4J26133\n",
            "Actual 4J26133 Predicted 4J26133\n",
            "Actual 1BF9561 Predicted 1BF9561\n",
            "Actual 1BF9561 Predicted 1BF9561\n",
            "Actual 7B73386 Predicted 7B73386\n",
            "Actual 7B73386 Predicted 7B733R6\n",
            "Actual 9B51879 Predicted 9B51879\n",
            "Actual 9B51879 Predicted B51879K\n",
            "Actual 9B51879 Predicted B51879K\n",
            "Actual 1BD6887 Predicted 1BD6887\n",
            "Actual 3B59865 Predicted 3B59865\n",
            "Actual 3B59865 Predicted 36ERE65\n",
            "Actual 5E42038 Predicted 5E42038\n",
            "Actual 5E42038 Predicted 5E42038\n",
            "Actual 4AV0372 Predicted 4AU0372\n",
            "Actual 4AV0372 Predicted 4AU0372\n",
            "Actual 8B08450 Predicted B0845L9\n",
            "Actual 8B08450 Predicted Q08455A\n",
            "Actual 4AE2962 Predicted 4AE2962\n",
            "Actual 4AE2962 Predicted 4AE2962\n",
            "Actual 8B23862 Predicted 8B23862\n",
            "Actual 8B23862 Predicted 8B23862\n",
            "Actual BZS2882 Predicted BYR2882\n",
            "Actual BZS2882 Predicted 8YR2882\n",
            "Actual 1AL8041 Predicted 1AL8041\n",
            "Actual 1AL8041 Predicted 1AL8041\n",
            "Actual 8B05665 Predicted 8505665\n",
            "Actual 8B05665 Predicted 8B05665\n",
            "Actual 3J51723 Predicted 3J51723\n",
            "Actual 3J51723 Predicted 3J51723\n",
            "Actual 4AV4846 Predicted W4AS4A5\n",
            "Actual 4AV4846 Predicted 4AU4846\n",
            "Actual 1E57612 Predicted 1E57612\n",
            "Actual 1E57612 Predicted 1E57612\n",
            "Actual 9B97998 Predicted 9B97998\n",
            "Actual 9B97998 Predicted 9B97998\n",
            "Actual 5B76026 Predicted 5B76026\n",
            "Actual 6U30467 Predicted 6T30467\n",
            "Actual 6U30467 Predicted 6T30467\n",
            "Actual 4B33939 Predicted 4B33939\n",
            "Actual 4B33939 Predicted 4B33939\n",
            "Actual BZD9179 Predicted BYD9179\n",
            "Actual BZD9179 Predicted BYD9179\n",
            "Actual 8B65108 Predicted 8B65108\n",
            "Actual 8B65108 Predicted RB65108\n",
            "Actual BZE9914 Predicted BYE9914\n",
            "Actual 9B35416 Predicted 9B35416\n",
            "Actual 9B35416 Predicted 9B35416\n",
            "Actual 4B42121 Predicted 4B42121\n",
            "Actual 4B42121 Predicted 4B42121\n",
            "Actual 9B14444 Predicted 9B14444\n",
            "Actual 9B14444 Predicted 9B14444\n",
            "Actual 7B32854 Predicted 7B32B54\n",
            "Actual 5E04524 Predicted 5E04524\n",
            "Actual 5E04524 Predicted 5E04524\n",
            "Actual 8B13976 Predicted B13976H\n",
            "Actual 8B13976 Predicted 8B13976\n",
            "Actual 8B64404 Predicted 8B64404\n",
            "Actual 4AK1070 Predicted 4AK1070\n",
            "Actual 4AK1070 Predicted 4AK1070\n",
            "Actual 8B93387 Predicted 8B93387\n",
            "Actual 8B93387 Predicted 8B93387\n",
            "Actual 1BI7047 Predicted 1BI7047\n",
            "Actual 1BI7047 Predicted 1BL7047\n",
            "Actual 2B74410 Predicted 2B74410\n",
            "Actual 2B74410 Predicted 2B74410\n",
            "Actual 5Z11146 Predicted 5Y11146\n",
            "Actual 5Z11146 Predicted 5Y11146\n",
            "Actual BVJ2803 Predicted BUJ28C3\n",
            "Actual 6B07445 Predicted 6B07445\n",
            "Actual 6B07445 Predicted 6B07445\n",
            "Actual 5B73337 Predicted 5B73337\n",
            "Actual 5B73337 Predicted 5B73337\n",
            "Actual 9B46662 Predicted 9B46662\n",
            "Actual 9B46662 Predicted 9B46662\n",
            "Actual 3AI9757 Predicted 3AI9757\n",
            "Actual 5B23595 Predicted 5B23595\n",
            "Actual 5B23595 Predicted 5B23595\n",
            "Actual 1BB6546 Predicted 1BB6546\n",
            "Actual 1BB6546 Predicted 1BB6546\n",
            "Actual 2B76975 Predicted 2B76975\n",
            "Actual 2B76975 Predicted 2B76975\n",
            "Actual 1BC6061 Predicted 1BC6061\n",
            "Actual 1BC6061 Predicted 1BC6061\n",
            "Actual 7B00714 Predicted YV5C7E4\n",
            "Actual 7B00714 Predicted 7B00714\n",
            "Actual 4AM2314 Predicted 4AM2314\n",
            "Actual 4AM2314 Predicted 4AM2314\n",
            "Actual 8B00733 Predicted 8R30733\n",
            "Actual 8B00733 Predicted 8B00733\n",
            "Actual 9B16065 Predicted 9B1606L\n",
            "Actual 9B16065 Predicted 9B16C65\n",
            "Actual 5Z75715 Predicted 5Y75715\n",
            "Actual 5AR4361 Predicted 5AQ4361\n",
            "Actual 5AR4361 Predicted 5AQ4361\n",
            "Actual 1BI2241 Predicted 1BI2241\n",
            "Actual 1BI2241 Predicted 1BI2241\n",
            "Actual 4AT1454 Predicted 4AS1454\n",
            "Actual 4AT1454 Predicted 4AS1454\n",
            "Actual 2AV8450 Predicted 2AU8450\n",
            "Actual 2AV8450 Predicted 2AU8450\n",
            "Actual 7B74677 Predicted 7B74677\n",
            "Actual 7B74677 Predicted R7B74E7\n",
            "Actual 5B71997 Predicted 5B71997\n",
            "Actual 9B49019 Predicted 9B49019\n",
            "Actual 9B49019 Predicted ROA9CE3\n",
            "Actual 7B73819 Predicted 7B73819\n",
            "Actual 7B73819 Predicted O7BYY18\n",
            "Actual 5AB6319 Predicted 5AB6319\n",
            "Actual 5AB6319 Predicted 5AB6319\n",
            "Actual 6B14769 Predicted 6B14769\n",
            "Actual 8B66920 Predicted 8B66920\n",
            "Actual 5AP7207 Predicted 5AO7207\n",
            "Actual 5AP7207 Predicted 5AO7207\n",
            "Actual 4AZ9716 Predicted 4AY9716\n",
            "Actual 4AZ9716 Predicted 4AY9716\n",
            "Actual 7B13866 Predicted 7B13866\n",
            "Actual 7B13866 Predicted 7B13866\n",
            "Actual 9A54845 Predicted 9A54845\n",
            "Actual 9A54845 Predicted 9A54845\n",
            "Actual 4AI3024 Predicted 4AI3024\n",
            "Actual 9B99303 Predicted 9B99303\n",
            "Actual KMD369 Predicted KMD369I\n",
            "Actual 8B71391 Predicted 8B71391\n",
            "Actual 8B71391 Predicted 8378B91\n",
            "Actual 1B84612 Predicted 1B84612\n",
            "Actual 1B84612 Predicted 1B84612\n",
            "Actual 6B48372 Predicted 6B48374\n",
            "Actual 6B48372 Predicted 6B48372\n",
            "Actual 6B00897 Predicted 6B00897\n",
            "Actual 6B00897 Predicted 6B00897\n",
            "Actual 8B62009 Predicted 8B62009\n",
            "Actual 1BK4055 Predicted 1BK4055\n",
            "Actual 1BK4055 Predicted 1BK4055\n",
            "Actual MY401AR Predicted MX401AQ\n",
            "Actual MY401AR Predicted ML401GQ\n",
            "Actual MY401AR Predicted MXL401A\n",
            "Actual 8B17581 Predicted 8B17581\n",
            "Actual 8B17581 Predicted 8B17581\n",
            "Actual 6B59456 Predicted 6B59456\n",
            "Actual NZ776CI Predicted YI776CI\n",
            "Actual NZ776CI Predicted NY776CI\n",
            "Actual 2AP7487 Predicted 2AO7487\n",
            "Actual 2AP7487 Predicted 2AO7487\n",
            "Actual 9T48719 Predicted 9S48719\n",
            "Actual 9T48719 Predicted 9S48719\n",
            "Actual 8B12953 Predicted 8B12953\n",
            "Actual 8B12953 Predicted 8B12R53\n",
            "Actual 2AP2094 Predicted 2AO2094\n",
            "Actual 2AP2094 Predicted 2AO2094\n",
            "Actual 9B12753 Predicted 9B12753\n",
            "Actual 9B12753 Predicted 9B12753\n",
            "Actual 1BK1061 Predicted 1BKM06M\n",
            "Actual 7B20988 Predicted 7B20988\n",
            "Actual 7B20988 Predicted 7B20988\n",
            "Actual 1B14230 Predicted 1B14230\n",
            "Actual 1B14230 Predicted 1B1423R\n",
            "Actual 8B18351 Predicted 8B18351\n",
            "Actual 1BJ8444 Predicted 1BJ8444\n",
            "Actual 1BJ8444 Predicted 1BJ8444\n",
            "Actual 1BK1483 Predicted 1BK1483\n",
            "Actual 1BK1483 Predicted 1BK1483\n",
            "Actual 2J41580 Predicted 2J41580\n",
            "Actual 1BM0165 Predicted 1BM0165\n",
            "Actual 1BM0165 Predicted 1BM0165\n",
            "Actual 3Z76425 Predicted A3Y7525\n",
            "Actual 3Z76425 Predicted 3Y76425\n",
            "Actual 8B52967 Predicted 8B52967\n",
            "Actual 8B52967 Predicted 8B52967\n",
            "Actual 6B97873 Predicted 6B97873\n",
            "Actual 5Z15908 Predicted 5Y1590R\n",
            "Actual 5Z15908 Predicted 5Y15908\n",
            "Actual 1BC9008 Predicted 1BC9008\n",
            "Actual 1BC9008 Predicted 1BC9008\n",
            "Actual 4H80950 Predicted 4H80950\n",
            "Actual 9B45485 Predicted 9B454B5\n",
            "Actual 9B45485 Predicted 9B45485\n",
            "Actual 7B26962 Predicted 7B26962\n",
            "Actual 7B26962 Predicted 7B26962\n",
            "Actual 9T60348 Predicted 9S60348\n",
            "Actual 9T60348 Predicted 9S5CW49\n",
            "Actual 2AV2237 Predicted 2AU2Y3Y\n",
            "Actual 2AV2237 Predicted 2AU2237\n",
            "Actual 6B41849 Predicted 6B41849\n",
            "Actual 6B41849 Predicted 6B41849\n",
            "Actual 8B21860 Predicted 8B21860\n",
            "Actual 8B21860 Predicted 8B21860\n",
            "Actual 5B40908 Predicted 5B40908\n",
            "Actual 5B40908 Predicted 5B40908\n",
            "Actual 5AN5877 Predicted 5LN5877\n",
            "Actual 5AN5877 Predicted 5AN5877\n",
            "Actual 5E06180 Predicted 5E06180\n",
            "Actual 5E06180 Predicted 5E06180\n",
            "Actual 1BK5088 Predicted 1BK508B\n",
            "Actual 6B03963 Predicted 6B03963\n",
            "Actual 1BK4579 Predicted 1BK4579\n",
            "Actual 1BK4579 Predicted 1BK4579\n",
            "Actual 3T20682 Predicted 3S2C682\n",
            "Actual 3T20682 Predicted 3S20682\n",
            "Actual 1B97718 Predicted 1B9771B\n",
            "Actual 1B97718 Predicted 1B97718\n",
            "Actual 1BL1273 Predicted 1BL1273\n",
            "Actual 1BL1273 Predicted 1BL1273\n",
            "Actual 1BC4518 Predicted 1BC4518\n",
            "Actual 7B71833 Predicted 7B71833\n",
            "Actual 7B71833 Predicted 7B71833\n",
            "Actual 9B11837 Predicted 9BH1B37\n",
            "Actual 9B11837 Predicted 9B11837\n",
            "Actual 8B22112 Predicted 8AYYM1Y\n",
            "Actual 8B22112 Predicted 8B22112\n",
            "Actual 7B76940 Predicted 7B76940\n",
            "Actual 7B76940 Predicted 7B76940\n",
            "Actual 5B21617 Predicted 5B21617\n",
            "Actual 5B21617 Predicted 5B21617\n",
            "Actual 5E69498 Predicted 5E69498\n",
            "Actual 5E69498 Predicted 5E69498\n",
            "Actual 7B42075 Predicted 7B42075\n",
            "Actual 7B75639 Predicted 7B75639\n",
            "Actual 7B75639 Predicted 7B75639\n",
            "Actual BKE6484 Predicted BKE6484\n",
            "Actual BKE6484 Predicted EK46484\n",
            "Actual 5E32437 Predicted 5E32437\n",
            "Actual 5E32437 Predicted 5E32437\n",
            "Actual 5B39960 Predicted 5B39960\n",
            "Actual 1BE4625 Predicted BE4625L\n",
            "Actual 1BE4625 Predicted 1BE4625\n",
            "Actual 4J05391 Predicted 4J05391\n",
            "Actual 9B59975 Predicted 9B59975\n",
            "Actual 9B59975 Predicted 9R5R975\n",
            "Actual 4J05391 Predicted 4J05391\n",
            "Actual 4J05391 Predicted 4J05391\n",
            "Actual 8T04731 Predicted 8S04731\n",
            "Actual 8T04731 Predicted 8S04731\n",
            "Actual 5B05970 Predicted 5B05970\n",
            "Actual 5B05970 Predicted 5B05970\n",
            "Actual 1BK5609 Predicted A565RNK\n",
            "Actual 1BK5609 Predicted 1BK5609\n",
            "Actual 3AA0031 Predicted 3AA0031\n",
            "Actual 3AA0031 Predicted 3AA6C31\n",
            "Actual 5B98973 Predicted 5B98973\n",
            "Actual 5B98973 Predicted 5B98973\n",
            "Actual 4L81898 Predicted 4L81898\n",
            "Actual 4L81898 Predicted 4L81899\n",
            "Actual 2Z15633 Predicted 2Y15633\n",
            "Actual 2Z15633 Predicted 2Y15633\n",
            "Actual 9B95644 Predicted 9B95644\n",
            "Actual 9B95644 Predicted 9B95644\n",
            "Actual 2Z53308 Predicted 2Y53308\n",
            "Actual 2Z53308 Predicted 2Y53308\n",
            "Actual 6H18106 Predicted 6H18106\n",
            "Actual 6B36507 Predicted 6B365C7\n",
            "Actual 6B36507 Predicted 6B36507\n",
            "Actual 8B65442 Predicted 8B65442\n",
            "Actual 8B65442 Predicted 8B65442\n",
            "Actual 4AB7389 Predicted KAB7389\n",
            "Actual 4AB7389 Predicted AB7389F\n",
            "Actual 7B12593 Predicted 7B12593\n",
            "Actual 4B03277 Predicted 4B03277\n",
            "Actual 5M71925 Predicted 5M71925\n",
            "Actual 1BE6302 Predicted 1BE6302\n",
            "Actual 2B78402 Predicted 2B7840Y\n",
            "Actual 2B78402 Predicted 2B78402\n",
            "Actual 2B57061 Predicted 2B57061\n",
            "Actual 2B57061 Predicted 2B57061\n",
            "Actual 7B36325 Predicted 7B3632N\n",
            "Actual 7B36325 Predicted 7B36325\n",
            "Actual 1BB5508 Predicted 1BB5508\n",
            "Actual 1BB5508 Predicted 1BB5508\n",
            "Actual 8B64498 Predicted 8B6449K\n",
            "Actual 8B64498 Predicted 8B64498\n",
            "Actual 7B10647 Predicted 7B10647\n",
            "Actual 7B10647 Predicted 7B10647\n",
            "Actual 9B25499 Predicted 9B25499\n",
            "Actual 9B25499 Predicted 9B25499\n",
            "Actual 5J24009 Predicted 5J24009\n",
            "Actual 5J24009 Predicted 5J24009\n",
            "Actual 3C21707 Predicted 3C21707\n",
            "Actual 3C21707 Predicted 3C21707\n",
            "Actual 9B59695 Predicted 9B59695\n",
            "Actual 6C82480 Predicted 6C82480\n",
            "Actual 6C82480 Predicted 6C82480\n",
            "Actual 9B12394 Predicted 9B12394\n",
            "Actual 5B08091 Predicted 5B08091\n",
            "Actual 5B08091 Predicted 5B08091\n",
            "Actual 0FDN2400 Predicted LDN2400\n",
            "Actual 0FDN2400 Predicted FDN240G\n",
            "Actual 3J46924 Predicted 3J46924\n",
            "Actual 3J46924 Predicted 3J46924\n",
            "Actual 7B77355 Predicted 7B77355\n",
            "Actual 7B77355 Predicted 7B77355\n",
            "Actual 6B88980 Predicted 6LKBRVM\n",
            "Actual 6B88980 Predicted E088980\n",
            "Actual 6B29637 Predicted 6B2963E\n",
            "Actual 6B29637 Predicted 6B29637\n",
            "Actual 8B47266 Predicted UA47YMR\n",
            "Actual 8B47266 Predicted 8B47266\n",
            "Actual 9B76503 Predicted 9B76503\n",
            "Actual 9B76503 Predicted 9B76503\n",
            "Actual 3M68870 Predicted 3M68870\n",
            "Actual 9B13003 Predicted 9B13003\n",
            "Actual 9B13003 Predicted 9B13003\n",
            "Actual 1BK0795 Predicted 1BK0795\n",
            "Actual 1BK0795 Predicted 1BK0795\n",
            "Actual 7B33016 Predicted 7B33016\n",
            "Actual 7B33016 Predicted 7B33016\n",
            "Actual 9B31369 Predicted 9B31369\n",
            "Actual 9B31369 Predicted 9B31369\n",
            "Actual 4B26473 Predicted 4B26473\n",
            "Actual 4B26473 Predicted 4B26473\n",
            "Actual 3K76100 Predicted 3K76100\n",
            "Actual 3K76100 Predicted 3K76100\n",
            "Actual 6C95249 Predicted 6C95249\n",
            "Actual 6C95249 Predicted 6C95249\n",
            "Actual 4AD7765 Predicted 4AD7765\n",
            "Actual 4AD7765 Predicted 4AD7765\n",
            "Actual 1BJ1803 Predicted 1BJ1803\n",
            "Actual 1BJ1803 Predicted 1BJ1803\n",
            "Actual 1BC8868 Predicted 1BC8868\n",
            "Actual 1BI0341 Predicted H1BI01G\n",
            "Actual 1BI0341 Predicted 1BI0341\n",
            "Actual 7B60441 Predicted 7B60441\n",
            "Actual 7B60441 Predicted 7B60441\n",
            "Actual 4B76003 Predicted 4B76003\n",
            "Actual 4B76003 Predicted 4B76003\n",
            "Actual 3B19075 Predicted 3B19075\n",
            "Actual 3B19075 Predicted 3B19075\n",
            "Actual BZ07997 Predicted BY07997\n",
            "Actual BZ07997 Predicted BY07997\n",
            "Actual 7B49614 Predicted 7B495CE\n",
            "Actual 7B49614 Predicted 7B49614\n",
            "Actual 7B56852 Predicted 7B56852\n",
            "Actual 7B56852 Predicted 7B56852\n",
            "Actual 7B99106 Predicted 7B99106\n",
            "Actual 7B99106 Predicted 7B99106\n",
            "Actual 8B61240 Predicted 8R61240\n",
            "Actual 8B61240 Predicted 8B61240\n",
            "Actual 1BL2193 Predicted 1BL2193\n",
            "Actual 1BL2193 Predicted 1BL2193\n",
            "Actual 4B05695 Predicted 4B05695\n",
            "Actual 4B05695 Predicted 4B05695\n",
            "Actual 8T78557 Predicted 8S78557\n",
            "Actual 8B24809 Predicted 8B248T9\n",
            "Actual 8B24809 Predicted 8B24E09\n",
            "Actual 9B13694 Predicted 9B13694\n",
            "Actual 9B13694 Predicted 9B13694\n",
            "Actual 6B94152 Predicted 6B94152\n",
            "Actual 6B94152 Predicted 6B94152\n",
            "Actual 8B36900 Predicted 8B36900\n",
            "Actual 8B36900 Predicted 8B36900\n",
            "Actual 1BJ5875 Predicted 1BJ5875\n",
            "Actual 1BJ5875 Predicted 1BJ5875\n",
            "Actual 8B43422 Predicted 8B43422\n",
            "Actual 8B43422 Predicted 8B43422\n",
            "Actual 5C96878 Predicted 5C96878\n",
            "Actual 5C96878 Predicted 5C96878\n",
            "Actual ZRJ3614 Predicted YQJ3614\n",
            "Actual ZRJ3614 Predicted YQJ3614\n",
            "Actual 8B99508 Predicted 8B99508\n",
            "Actual 8B99508 Predicted 8B99508\n",
            "Actual 1BE6027 Predicted 1BE6027\n",
            "Actual 1BE6027 Predicted 1BE6027\n",
            "Actual 111SED0S Predicted 11RED0R\n",
            "Actual 4T23630 Predicted 4SY53RS\n",
            "Actual 4T23630 Predicted 4S23630\n",
            "Actual 2AT1244 Predicted 2AS1244\n",
            "Actual 2AT1244 Predicted 2AS124J\n",
            "Actual 1BA5922 Predicted 1BA5922\n",
            "Actual 1BA5922 Predicted 1BA5922\n",
            "Actual 1BN7190 Predicted 1BN7190\n",
            "Actual 1BN7190 Predicted 1BN7190\n",
            "Actual 1BJ3555 Predicted 1BJ3555\n",
            "Actual 1BJ3555 Predicted 1BJ3555\n",
            "Actual BKE7499 Predicted BKE7499\n",
            "Actual BKE7499 Predicted BKE7499\n",
            "Actual 5AA4937 Predicted 5AA4937\n",
            "Actual 5AA4937 Predicted 5AA4937\n",
            "Actual 6M17435 Predicted 6M17435\n",
            "Actual 6M17435 Predicted 6M17435\n",
            "Actual 7B71936 Predicted 7B71936\n",
            "Actual 7B71936 Predicted 7B71936\n",
            "Actual 1M87666 Predicted 1M87666\n",
            "Actual 1M87666 Predicted 1M87666\n",
            "Actual 1BI9388 Predicted 1BI9388\n",
            "Actual 1BI9388 Predicted 1BI9388\n",
            "Actual 1AF0898 Predicted 1AF0898\n",
            "Actual 1AF0898 Predicted 1AF0898\n",
            "Actual 5B78365 Predicted 5R783K5\n",
            "Actual 5B78365 Predicted 5B78365\n",
            "Actual 1BC6862 Predicted 1BC6862\n",
            "Actual 8B73244 Predicted 8B73244\n",
            "Actual 8B73244 Predicted 8B73244\n",
            "Actual 5AB3077 Predicted 5AB30Y7\n",
            "Actual 7B13237 Predicted 7B13237\n",
            "Actual 7B13237 Predicted 7B13237\n",
            "Actual BSD1881 Predicted BRD1881\n",
            "Actual BSD1881 Predicted BRD1881\n",
            "Actual 8B73233 Predicted 8B73233\n",
            "Actual 5B38571 Predicted 5B38571\n",
            "Actual 5B38571 Predicted 5B3E751\n",
            "Actual 2SJ0765 Predicted 2RJ0765\n",
            "Actual 2SJ0765 Predicted 2RJ0765\n",
            "Actual 7B54821 Predicted 7B54821\n",
            "Actual 7B54821 Predicted 7R548Y1\n",
            "Actual MA892DE Predicted MA892DE\n",
            "Actual MA892DE Predicted MA8C2CJ\n",
            "Actual 8B25951 Predicted 8925351\n",
            "Actual 8B25951 Predicted 8B25951\n",
            "Actual 5B55682 Predicted 5B55682\n",
            "Actual 6B53106 Predicted 6B53106\n",
            "Actual 6B53106 Predicted 6B53106\n",
            "Actual 4B41805 Predicted 4B41805\n",
            "Actual 4B41805 Predicted 4841EC5\n",
            "Actual 8B70280 Predicted 8B70280\n",
            "Actual 9B61848 Predicted 9B61848\n",
            "Actual BZI8144 Predicted BYI8144\n",
            "Actual BZI8144 Predicted BYI8144\n",
            "Actual 2B23378 Predicted IDY5VS5\n",
            "Actual 2B23378 Predicted 2B23378\n",
            "Actual 8B22038 Predicted 8B22038\n",
            "Actual 8B22038 Predicted 8B22038\n",
            "Actual 1B55421 Predicted 1B55421\n",
            "Actual 1B55421 Predicted 1B55421\n",
            "Actual 7B45239 Predicted 7B45239\n",
            "Actual 7B45239 Predicted 7B45239\n",
            "Actual 6B83251 Predicted 6B83251\n",
            "Actual 6B83251 Predicted 6B83251\n",
            "Actual 4C46284 Predicted 4C46284\n",
            "Actual 3ST2906 Predicted 3RS29C6\n",
            "Actual 3ST2906 Predicted 3RS2906\n",
            "Actual BZD6243 Predicted BYD6243\n",
            "Actual BZD6243 Predicted BYD6243\n",
            "Actual 5B23431 Predicted 5B23430\n",
            "Actual 5B23431 Predicted 5B23431\n",
            "Actual 8B62350 Predicted 8B62350\n",
            "Actual 8B62350 Predicted 8B62350\n",
            "Actual 7B73284 Predicted 7B73284\n",
            "Actual 7B73284 Predicted 7B73284\n",
            "Actual 4E95804 Predicted 4E95804\n",
            "Actual 4E95804 Predicted 4E95804\n",
            "Actual 4B41489 Predicted 4B41489\n",
            "Actual 4B41489 Predicted 4B41489\n",
            "Actual 3AV4830 Predicted E3AU48D\n",
            "Actual 9B97909 Predicted 9B97909\n",
            "Actual 9B97909 Predicted 9B97909\n",
            "Actual 9B97909 Predicted 9B97909\n",
            "Actual 4B78302 Predicted 4B78302\n",
            "Actual 4B78302 Predicted 4B78302\n",
            "Actual 8B18149 Predicted 8B18149\n",
            "Actual 8B92186 Predicted 8B92186\n",
            "Actual 8B92186 Predicted 8B92186\n",
            "Actual 4B43318 Predicted 4B43318\n",
            "Actual 4B43318 Predicted 4B43318\n",
            "Actual 7B39276 Predicted 7B39276\n",
            "Actual 7B39276 Predicted 7B3L276\n",
            "Actual 1BF9713 Predicted 1BF9713\n",
            "Actual 6B68043 Predicted 6B68043\n",
            "Actual 6B68043 Predicted 6B68043\n",
            "Actual 7B35302 Predicted 7B35302\n",
            "Actual 7B35302 Predicted 7B35302\n",
            "Actual 3B94830 Predicted 3B94830\n",
            "Actual 9B41091 Predicted 9B41091\n",
            "Actual 9B41091 Predicted 9BK1091\n",
            "Actual 4B65019 Predicted 4B65019\n",
            "Actual 4B65019 Predicted 4B65019\n",
            "Actual 1BK7377 Predicted 1BK7377\n",
            "Actual 1BK7377 Predicted 1BK7377\n",
            "Actual 3B02840 Predicted 3B02840\n",
            "Actual 3B02840 Predicted 3B02840\n",
            "Actual 4E32755 Predicted 4E32755\n",
            "Actual 4E32755 Predicted 4E32755\n",
            "Actual 3T80334 Predicted 3S8C334\n",
            "Actual 3T80334 Predicted 3S80334\n",
            "Actual 1B90288 Predicted 1B90288\n",
            "Actual 1B90288 Predicted 1B90288\n",
            "Actual 4AI5803 Predicted 4AI5803\n",
            "Actual 4AI5803 Predicted 4AI5803\n",
            "Actual 1BI5346 Predicted 1BI5346\n",
            "Actual 3AU1045 Predicted 3AT1045\n",
            "Actual 3AU1045 Predicted RB81C45\n",
            "Actual 2B48926 Predicted 2B48926\n",
            "Actual 2B48926 Predicted 2B48926\n",
            "Actual 4B05693 Predicted 4B05693\n",
            "Actual 4B05693 Predicted 4B05693\n",
            "Actual 5B21023 Predicted 5B21023\n",
            "Actual 5B21023 Predicted 5B21023\n",
            "Actual 3AZ0117 Predicted 3AY0S16\n",
            "Actual 4B38690 Predicted 4B38690\n",
            "Actual 4B38690 Predicted 4B38690\n",
            "Actual 7B23167 Predicted 7B23167\n",
            "Actual 7B23167 Predicted 7B23167\n",
            "Actual 7B95338 Predicted 7B95338\n",
            "Actual 7B95338 Predicted 7B95338\n",
            "Actual BKH5010 Predicted BKH5D10\n",
            "Actual BKH5010 Predicted BKH5010\n",
            "Actual 4M20103 Predicted 4M20103\n",
            "Actual 4M20103 Predicted 4M20103\n",
            "Actual 3AR6200 Predicted 3AQ6200\n",
            "Actual 3AR6200 Predicted 3AQ6200\n",
            "Actual 5AP4107 Predicted 5AO4107\n",
            "Actual 5AP4107 Predicted 5AO4107\n",
            "Actual 7U27188 Predicted 7T27188\n",
            "Actual 7U27188 Predicted 7T27188\n",
            "Actual 6B67297 Predicted 6B67297\n",
            "Actual 4B08562 Predicted 4B08562\n",
            "Actual 4B08562 Predicted 4B08562\n",
            "Actual 9B41901 Predicted 9B41901\n",
            "Actual 6B00431 Predicted 6B00431\n",
            "Actual 6B00431 Predicted 6B00431\n",
            "Actual 6B48369 Predicted 6B48369\n",
            "Actual 5Z58900 Predicted 5Y58900\n",
            "Actual 5Z58900 Predicted 5Y58900\n",
            "Actual 5B38083 Predicted 5B38083\n",
            "Actual 5B38083 Predicted HB38CR3\n",
            "Actual 4E47660 Predicted 4E47660\n",
            "Actual 4E47660 Predicted 4E47660\n",
            "Actual 8B71070 Predicted 8B71070\n",
            "Actual 8B71070 Predicted 8B71070\n",
            "Actual 3B23373 Predicted 3E2337J\n",
            "Actual 3B23373 Predicted 3B23373\n",
            "Actual 6B82130 Predicted 6B82130\n",
            "Actual 5B42027 Predicted 5B42027\n",
            "Actual 5B42027 Predicted 5B42027\n",
            "Actual WGM5EJ4 Predicted VGM5EJA\n",
            "Actual WGM5EJ4 Predicted VGM5EDA\n",
            "Actual WGM5EJ4 Predicted VGM5EJN\n",
            "Actual WGM5EJ4 Predicted VGM5EBA\n",
            "Actual 5E34190 Predicted Y0411L2\n",
            "Actual 5E34190 Predicted 5E34190\n",
            "Actual 1BB3658 Predicted 1BB3658\n",
            "Actual 1BB3658 Predicted KRRRKKI\n",
            "Actual 1BM0092 Predicted 1BM0092\n",
            "Actual 1BM0092 Predicted 1BM0092\n",
            "Actual 7B73559 Predicted 7B73559\n",
            "Actual 7B73559 Predicted 7B73559\n",
            "Actual 6B36438 Predicted 6B36438\n",
            "Actual 6B36438 Predicted 6B36438\n",
            "Actual BZN8953 Predicted BYN8953\n",
            "Actual BZN8953 Predicted BYN8953\n",
            "Actual 9B77979 Predicted 9B77979\n",
            "Actual 9B77979 Predicted 9B77979\n",
            "Actual 5B21330 Predicted 5B21330\n",
            "Actual 5B21330 Predicted 5B21330\n",
            "Actual 8B06668 Predicted 8B06668\n",
            "Actual 8B06668 Predicted 8B06668\n",
            "Actual 8B59915 Predicted 8B59915\n",
            "Actual BL887HG Predicted LL887HG\n",
            "Actual BL887HG Predicted LL887HG\n",
            "Actual BL887HG Predicted LL887HG\n",
            "Actual BL887HG Predicted LL887HG\n",
            "Actual 3AS8009 Predicted 3AR8009\n",
            "Actual 4Z43106 Predicted 4Y43106\n",
            "Actual 4Z43106 Predicted 4Y43106\n",
            "Actual 3AY2564 Predicted 3AX2564\n",
            "Actual 3AY2564 Predicted 3AXY564\n",
            "Actual 1BC1668 Predicted 1BC1668\n",
            "Actual 1BC1668 Predicted 1BC1668\n",
            "Actual 5B39710 Predicted 5B39710\n",
            "Actual 5B39710 Predicted 5B39710\n",
            "Actual 7B99702 Predicted 7B99702\n",
            "Actual 7B99702 Predicted 7B99702\n",
            "Actual 2B43801 Predicted 2B43801\n",
            "Actual 1B68822 Predicted Y85B822\n",
            "Actual 1B32672 Predicted 1B32672\n",
            "Actual 1B32672 Predicted 1B32672\n",
            "Actual 7A73541 Predicted 7A73541\n",
            "Actual 7A73541 Predicted 7A73541\n",
            "Actual 1BK2922 Predicted 1BK2922\n",
            "Actual 4AX2403 Predicted 4AW2403\n",
            "Actual 4AX2403 Predicted 4AW2403\n",
            "Actual 4Z91306 Predicted 4Y98306\n",
            "Actual 4Z91306 Predicted 4Y91306\n",
            "Actual 7B91348 Predicted 7B91348\n",
            "Actual 7B91348 Predicted 7B91348\n",
            "Actual 4B98686 Predicted 4B9B686\n",
            "Actual 6H08088 Predicted 6H08088\n",
            "Actual 6H08088 Predicted 6H08CE8\n",
            "Actual 1BD2481 Predicted 1BD2481\n",
            "Actual 1BD2481 Predicted 1BD2481\n",
            "Actual 3AR3019 Predicted 3AQ30H9\n",
            "Actual 3AR3019 Predicted 3AQ3019\n",
            "Actual 7B89661 Predicted 7B89661\n",
            "Actual 3B27399 Predicted 3B27399\n",
            "Actual 3B27399 Predicted 3B27399\n",
            "Actual 3B98443 Predicted 3B98443\n",
            "Actual 3B13598 Predicted 3B13598\n",
            "Actual 3B13598 Predicted 3B13598\n",
            "Actual 3B82718 Predicted 3B82718\n",
            "Actual 3B82718 Predicted 3B82718\n",
            "Actual 5B76437 Predicted 5BY6437\n",
            "Actual BL642KG Predicted LL642KG\n",
            "Actual BL642KG Predicted LL6Y2KG\n",
            "Actual BL642KG Predicted LL642KG\n",
            "Actual BL642KG Predicted LL642KG\n",
            "Actual BL642KG Predicted LL642KG\n",
            "Actual BL642KG Predicted LL642KG\n",
            "Actual 6B48050 Predicted 6B48050\n",
            "Actual 6B48050 Predicted 6B48050\n",
            "Actual 7B78165 Predicted 7B78165\n",
            "Actual 7B78165 Predicted 7B78165\n",
            "Actual 9B12485 Predicted 9B12485\n",
            "Actual DKLKS60 Predicted DKLKRR0\n",
            "Actual 7B12095 Predicted 7B12095\n",
            "Actual 7B12095 Predicted 7B12095\n",
            "Actual 9B35570 Predicted 9B35570\n",
            "Actual 5AD8290 Predicted 5AD8290\n",
            "Actual 5AD8290 Predicted 5AD8290\n",
            "Actual 1SJ5424 Predicted 1R5424H\n",
            "Actual 1SJ5424 Predicted 1RJ5424\n",
            "Actual 1B56579 Predicted 1B56579\n",
            "Actual 1B56579 Predicted 1B56579\n",
            "Actual 8B19421 Predicted 8B19421\n",
            "Actual 8B19421 Predicted 8B19421\n",
            "Actual 1BI8426 Predicted 1BI8426\n",
            "Actual 1BI8426 Predicted 1BI8426\n",
            "Actual 7B73549 Predicted 7B73549\n",
            "Actual 7B73549 Predicted 7B73549\n",
            "Actual 1BJ5260 Predicted 1BJ5260\n",
            "Actual 1BJ5260 Predicted 1BJ5260\n",
            "Actual 1C88802 Predicted 1C88802\n",
            "Actual 1C88802 Predicted 1C88802\n",
            "Actual 5E13368 Predicted 5E13368\n",
            "Actual 5E13368 Predicted 5E13368\n",
            "Actual 7B28246 Predicted 7B28246\n",
            "Actual 7B28246 Predicted 7B28246\n",
            "Actual 5E63856 Predicted 5E63856\n",
            "Actual 5E63856 Predicted 5E63856\n",
            "Actual BSE8940 Predicted CRE8K40\n",
            "Actual BSE8940 Predicted BRE8940\n",
            "Actual 7B27407 Predicted 7B27407\n",
            "Actual 7B27407 Predicted 7B27407\n",
            "Actual 7B58704 Predicted 7B58704\n",
            "Actual 7B58704 Predicted 7B58704\n",
            "Actual 4AZ7045 Predicted 4AY7045\n",
            "Actual 4AZ7045 Predicted 4AY7045\n",
            "Actual 6B08662 Predicted 6B08662\n",
            "Actual 6B08662 Predicted 6B08662\n",
            "Actual 7B43843 Predicted 7B43843\n",
            "Actual 7B43843 Predicted 7B43843\n",
            "Actual 7B33503 Predicted 7B33503\n",
            "Actual 7B33503 Predicted 7B33503\n",
            "Actual 1BK3893 Predicted 1BK3893\n",
            "Actual 1BK3893 Predicted 1BK3893\n",
            "88.3 percent of lp images are correctly segmented\n",
            "69.42242355605889 percent of lp images are correctly recognised\n"
          ],
          "name": "stdout"
        }
      ]
    },
    {
      "cell_type": "markdown",
      "metadata": {
        "id": "acM6O_naIBO2",
        "colab_type": "text"
      },
      "source": [
        "Since, its taking long time to process we ran it for 1000 images only."
      ]
    },
    {
      "cell_type": "markdown",
      "metadata": {
        "id": "WHkNhR_9L3j7",
        "colab_type": "text"
      },
      "source": [
        "**Finally we thank you for taking time and evaluating. We learned a lot and had a lot of fun working on this project.**"
      ]
    }
  ]
}