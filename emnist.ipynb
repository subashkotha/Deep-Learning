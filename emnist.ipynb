{
  "nbformat": 4,
  "nbformat_minor": 0,
  "metadata": {
    "colab": {
      "name": "emnist.ipynb",
      "provenance": []
    },
    "kernelspec": {
      "name": "python3",
      "display_name": "Python 3"
    }
  },
  "cells": [
    {
      "cell_type": "markdown",
      "metadata": {
        "id": "LQ55Q7pvO-Pa",
        "colab_type": "text"
      },
      "source": [
        "In this notebook we provide the code we intially used.\n",
        "\n",
        "Here we declared our own CNN model, but due to bad accuracy we decided to go with resnet101 which is the [ALPR](https://https://colab.research.google.com/drive/1N_41ZcDMbm7P9ERnjoVT3PwahGMeHKL-?usp=sharing) notebook."
      ]
    },
    {
      "cell_type": "code",
      "metadata": {
        "id": "94YqArZiNZYe",
        "colab_type": "code",
        "colab": {}
      },
      "source": [
        "mydata = ImageFolder(root=\"working_org\", transform=ToTensor())\n",
        "loader = DataLoader(mydata, batch_size=10, shuffle=True, num_workers=2)"
      ],
      "execution_count": 0,
      "outputs": []
    },
    {
      "cell_type": "markdown",
      "metadata": {
        "id": "GjZhYo1DQCRt",
        "colab_type": "text"
      },
      "source": [
        "Our model has two convolutional layers each followed by a max_pooling. Covolutional layers are followed by RELU activation layer.\n",
        "\n",
        "Then there are three fully connected layers before the output layer."
      ]
    },
    {
      "cell_type": "code",
      "metadata": {
        "id": "TVqAHZp3Naor",
        "colab_type": "code",
        "colab": {}
      },
      "source": [
        "\n",
        "class Net(nn.Module):\n",
        "    def __init__(self):\n",
        "        super(Net, self).__init__()\n",
        "        self.conv1 = nn.Conv2d(1, 32, kernel_size=5)\n",
        "        self.conv2 = nn.Conv2d(32, 128, kernel_size=5)\n",
        "        self.conv2_drop = nn.Dropout2d()\n",
        "        self.fc1 = nn.Linear(107648, 2048)\n",
        "        self.fc3 = nn.Linear(2048, 512)\n",
        "        self.fc5 = nn.Linear(512, 36)\n",
        "\n",
        "    def forward(self, x):\n",
        "        x = F.relu(F.max_pool2d(self.conv1(x), 2))\n",
        "        x = F.relu(F.max_pool2d(self.conv2_drop(self.conv2(x)), 2))\n",
        "        #print(x.size())\n",
        "        x = x.view(-1, 107648)\n",
        "        x = F.relu(self.fc1(x))\n",
        "        x = F.dropout(x, training=self.training)\n",
        "        x = F.relu(self.fc3(x))\n",
        "        x = F.dropout(x, training=self.training)\n",
        "        x = self.fc5(x)\n",
        "        return x\n",
        "\n",
        "model = Net()\n",
        "model.cuda()\n",
        "\n",
        "optimizer = optim.Adam(model.parameters(), lr=1e-4, eps=1e-4)"
      ],
      "execution_count": 0,
      "outputs": []
    },
    {
      "cell_type": "code",
      "metadata": {
        "id": "k-LfFuDcNc-W",
        "colab_type": "code",
        "colab": {}
      },
      "source": [
        "from IPython.display import clear_output\n",
        "def train(epoch):\n",
        "    model.train()\n",
        "    for batch_idx, (data, target) in enumerate(loader):\n",
        "        data, target = data.cuda(), target.cuda()\n",
        "        data, target = Variable(data), Variable(target)\n",
        "        optimizer.zero_grad()\n",
        "        output = model(data)\n",
        "        loss = nn.CrossEntropyLoss()\n",
        "        output = loss(output, target)\n",
        "        output.backward()\n",
        "        optimizer.step()\n",
        "        if batch_idx %1700 == 0:\n",
        "            clear_output()\n",
        "        if batch_idx % 100 == 0:\n",
        "             print('Train Epoch: {} [{}/{} ({:.0f}%)]\\tLoss: {:.6f}'.format(\n",
        "                 epoch, batch_idx * len(data), len(loader.dataset),\n",
        "                 100. * batch_idx / len(loader), output.data[0]))\n",
        "        #    print()"
      ],
      "execution_count": 0,
      "outputs": []
    },
    {
      "cell_type": "code",
      "metadata": {
        "id": "jZT3KNgxNdQL",
        "colab_type": "code",
        "colab": {}
      },
      "source": [
        "for epoch in range(5):\n",
        "    train(epoch)"
      ],
      "execution_count": 0,
      "outputs": []
    }
  ]
}